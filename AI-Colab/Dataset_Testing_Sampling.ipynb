{
  "nbformat": 4,
  "nbformat_minor": 0,
  "metadata": {
    "colab": {
      "provenance": [],
      "collapsed_sections": [
        "vIeC3C9g0ZJb"
      ],
      "toc_visible": true
    },
    "kernelspec": {
      "name": "python3",
      "display_name": "Python 3"
    },
    "language_info": {
      "name": "python"
    },
    "accelerator": "GPU"
  },
  "cells": [
    {
      "cell_type": "markdown",
      "source": [
        "# TESTING FOUND DATASETS"
      ],
      "metadata": {
        "id": "5nV73m5MUfNe"
      }
    },
    {
      "cell_type": "markdown",
      "source": [
        "# Configuring lab\n",
        "First, load kaggle api.\n",
        "https://medium.com/unpackai/how-to-use-kaggle-datasets-in-google-colab-f9b2e4b5767c"
      ],
      "metadata": {
        "id": "wHdXGefkVCJ8"
      }
    },
    {
      "cell_type": "code",
      "source": [
        "from google.colab import drive\n",
        "drive.mount('/content/drive')"
      ],
      "metadata": {
        "colab": {
          "base_uri": "https://localhost:8080/"
        },
        "id": "Zdvl-A6DUv3t",
        "outputId": "70189a0c-aa19-49dc-f27c-26b696176cff"
      },
      "execution_count": 1,
      "outputs": [
        {
          "output_type": "stream",
          "name": "stdout",
          "text": [
            "Mounted at /content/drive\n"
          ]
        }
      ]
    },
    {
      "cell_type": "code",
      "execution_count": 2,
      "metadata": {
        "colab": {
          "base_uri": "https://localhost:8080/"
        },
        "id": "TSMIoOFBUXX4",
        "outputId": "5fc59a27-c6ad-4d79-e8c9-616eb864184d"
      },
      "outputs": [
        {
          "output_type": "stream",
          "name": "stdout",
          "text": [
            "Looking in indexes: https://pypi.org/simple, https://us-python.pkg.dev/colab-wheels/public/simple/\n",
            "Requirement already satisfied: kaggle in /usr/local/lib/python3.7/dist-packages (1.5.12)\n",
            "Requirement already satisfied: certifi in /usr/local/lib/python3.7/dist-packages (from kaggle) (2022.9.24)\n",
            "Requirement already satisfied: six>=1.10 in /usr/local/lib/python3.7/dist-packages (from kaggle) (1.15.0)\n",
            "Requirement already satisfied: python-dateutil in /usr/local/lib/python3.7/dist-packages (from kaggle) (2.8.2)\n",
            "Requirement already satisfied: tqdm in /usr/local/lib/python3.7/dist-packages (from kaggle) (4.64.1)\n",
            "Requirement already satisfied: urllib3 in /usr/local/lib/python3.7/dist-packages (from kaggle) (1.24.3)\n",
            "Requirement already satisfied: python-slugify in /usr/local/lib/python3.7/dist-packages (from kaggle) (6.1.2)\n",
            "Requirement already satisfied: requests in /usr/local/lib/python3.7/dist-packages (from kaggle) (2.23.0)\n",
            "Requirement already satisfied: text-unidecode>=1.3 in /usr/local/lib/python3.7/dist-packages (from python-slugify->kaggle) (1.3)\n",
            "Requirement already satisfied: chardet<4,>=3.0.2 in /usr/local/lib/python3.7/dist-packages (from requests->kaggle) (3.0.4)\n",
            "Requirement already satisfied: idna<3,>=2.5 in /usr/local/lib/python3.7/dist-packages (from requests->kaggle) (2.10)\n"
          ]
        }
      ],
      "source": [
        "!pip install kaggle"
      ]
    },
    {
      "cell_type": "code",
      "source": [
        "import os\n",
        "os.environ['KAGGLE_CONFIG_DIR'] = \"/content/drive/MyDrive/colab_api/\""
      ],
      "metadata": {
        "id": "3tNpn2ShVe58"
      },
      "execution_count": 3,
      "outputs": []
    },
    {
      "cell_type": "markdown",
      "source": [
        "Libs"
      ],
      "metadata": {
        "id": "nCoAI7jNLWF8"
      }
    },
    {
      "cell_type": "code",
      "source": [
        "import pandas as pd\n",
        "import random\n",
        "from keras.models import Sequential\n",
        "from keras.layers import Dense"
      ],
      "metadata": {
        "id": "8Gc6WFt5LWo7"
      },
      "execution_count": 4,
      "outputs": []
    },
    {
      "cell_type": "markdown",
      "source": [
        "# DATASET - DDoS Dataset\n",
        "https://www.kaggle.com/datasets/devendra416/ddos-datasets"
      ],
      "metadata": {
        "id": "omH55IKWWA0B"
      }
    },
    {
      "cell_type": "markdown",
      "source": [
        "## Loading data"
      ],
      "metadata": {
        "id": "HyICQNLEW44j"
      }
    },
    {
      "cell_type": "code",
      "source": [
        "!kaggle datasets download -d devendra416/ddos-datasets"
      ],
      "metadata": {
        "colab": {
          "base_uri": "https://localhost:8080/"
        },
        "id": "DulAJ5NsWYMh",
        "outputId": "c5560497-a0ce-405f-d3a8-2066aba13480"
      },
      "execution_count": 5,
      "outputs": [
        {
          "output_type": "stream",
          "name": "stdout",
          "text": [
            "Downloading ddos-datasets.zip to /content\n",
            "100% 2.68G/2.68G [02:12<00:00, 24.3MB/s]\n",
            "100% 2.68G/2.68G [02:12<00:00, 21.8MB/s]\n"
          ]
        }
      ]
    },
    {
      "cell_type": "code",
      "source": [
        "!unzip ddos-datasets.zip"
      ],
      "metadata": {
        "colab": {
          "base_uri": "https://localhost:8080/"
        },
        "id": "1niWRdnjWtFS",
        "outputId": "3b5fa1fb-9eb2-4162-d887-be4f256e049e"
      },
      "execution_count": 6,
      "outputs": [
        {
          "output_type": "stream",
          "name": "stdout",
          "text": [
            "Archive:  ddos-datasets.zip\n",
            "  inflating: ddos_balanced/final_dataset.csv  \n",
            "  inflating: ddos_imbalanced/unbalaced_20_80_dataset.csv  \n"
          ]
        }
      ]
    },
    {
      "cell_type": "code",
      "source": [
        "columns = [\n",
        "    \"Flow ID\",\n",
        "\"Src IP\",\n",
        "\"Src Port\",\n",
        "\"Dst IP\",\n",
        "\"Dst Port\",\n",
        "\"Protocol\",\n",
        "\"Timestamp\",\n",
        "\"Flow Duration\",\n",
        "\"Tot Fwd Pkts\",\n",
        "\"Tot Bwd Pkts\",\n",
        "\"TotLen Fwd Pkts\",\n",
        "\"TotLen Bwd Pkts\",\n",
        "\"Fwd Pkt Len Max\",\n",
        "\"Fwd Pkt Len Min\",\n",
        "\"Fwd Pkt Len Mean\",\n",
        "\"Fwd Pkt Len Std\",\n",
        "\"Bwd Pkt Len Max\",\n",
        "\"Bwd Pkt Len Min\",\n",
        "\"Bwd Pkt Len Mean\",\n",
        "\"Bwd Pkt Len Std\",\n",
        "\"Flow Byts/s\",\n",
        "\"Flow Pkts/s\",\n",
        "\"Flow IAT Mean\",\n",
        "\"Flow IAT Std\",\n",
        "\"Flow IAT Max\",\n",
        "\"Flow IAT Min\",\n",
        "\"Fwd IAT Tot\",\n",
        "\"Fwd IAT Mean\",\n",
        "\"Fwd IAT Std\",\n",
        "\"Fwd IAT Max\",\n",
        "\"Fwd IAT Min\",\n",
        "\"Bwd IAT Tot\",\n",
        "\"Bwd IAT Mean\",\n",
        "\"Bwd IAT Std\",\n",
        "\"Bwd IAT Max\",\n",
        "\"Bwd IAT Min\",\n",
        "\"Fwd PSH Flags\",\n",
        "\"Bwd PSH Flags\",\n",
        "\"Fwd URG Flags\",\n",
        "\"Bwd URG Flags\",\n",
        "\"Fwd Header Len\",\n",
        "\"Bwd Header Len\",\n",
        "\"Fwd Pkts/s\",\n",
        "\"Bwd Pkts/s\",\n",
        "\"Pkt Len Min\",\n",
        "\"Pkt Len Max\",\n",
        "\"Pkt Len Mean\",\n",
        "\"Pkt Len Std\",\n",
        "\"Pkt Len Var\",\n",
        "\"FIN Flag Cnt\",\n",
        "\"SYN Flag Cnt\",\n",
        "\"RST Flag Cnt\",\n",
        "\"PSH Flag Cnt\",\n",
        "\"ACK Flag Cnt\",\n",
        "\"URG Flag Cnt\",\n",
        "\"CWE Flag Count\",\n",
        "\"ECE Flag Cnt\",\n",
        "\"Down/Up Ratio\",\n",
        "\"Pkt Size Avg\",\n",
        "\"Fwd Seg Size Avg\",\n",
        "\"Bwd Seg Size Avg\",\n",
        "\"Fwd Byts/b Avg\",\n",
        "\"Fwd Pkts/b Avg\",\n",
        "\"Fwd Blk Rate Avg\",\n",
        "\"Bwd Byts/b Avg\",\n",
        "\"Bwd Pkts/b Avg\",\n",
        "\"Bwd Blk Rate Avg\",\n",
        "\"Subflow Fwd Pkts\",\n",
        "\"Subflow Fwd Byts\",\n",
        "\"Subflow Bwd Pkts\",\n",
        "\"Subflow Bwd Byts\",\n",
        "\"Init Fwd Win Byts\",\n",
        "\"Init Bwd Win Byts\",\n",
        "\"Fwd Act Data Pkts\",\n",
        "\"Fwd Seg Size Min\",\n",
        "\"Active Mean\",\n",
        "\"Active Std\",\n",
        "\"Active Max\",\n",
        "\"Active Min\",\n",
        "\"Idle Mean\",\n",
        "\"Idle Std\",\n",
        "\"Idle Max\",\n",
        "\"Idle Min\",\n",
        "\"Label\",\n",
        "]"
      ],
      "metadata": {
        "id": "3T0lhWNxt0XE"
      },
      "execution_count": 7,
      "outputs": []
    },
    {
      "cell_type": "code",
      "source": [
        "to_ignore = [\"Flow ID\",\n",
        "            \"Protocol\",\n",
        "            \"Flow Duration\",\n",
        "            \"Flow Byts/s\",\n",
        "            \"Flow Pkts/s\",\n",
        "            'Bwd Blk Rate Avg', \n",
        "            'Bwd Byts/b Avg', \n",
        "            'Bwd PSH Flags',\n",
        "            'Bwd Pkts/b Avg', \n",
        "            'Bwd URG Flags', \n",
        "            'FIN Flag Cnt',\n",
        "            'Fwd Blk Rate Avg', \n",
        "            'Fwd Byts/b Avg', \n",
        "            'Fwd PSH Flags',\n",
        "            'Fwd Pkts/b Avg', \n",
        "            'Fwd URG Flags', \n",
        "            'URG Flag Cnt',\n",
        "            \"Tot Bwd Pkts\",\n",
        "            \"TotLen Fwd Pkts\",\n",
        "            \"TotLen Bwd Pkts\",\n",
        "            \"Bwd Pkt Len Max\",\n",
        "            \"Bwd Pkt Len Mean\",\n",
        "            \"Bwd Pkt Len Std\",\n",
        "            \"Bwd IAT Tot\",\n",
        "            \"Bwd IAT Mean\",\n",
        "            \"Bwd IAT Std\",\n",
        "            \"Bwd IAT Max\",\n",
        "            \"Bwd IAT Min\",\n",
        "            \"Bwd Header Len\",\n",
        "            \"Bwd Pkts/s\",\n",
        "            \"Bwd Seg Size Avg\",\n",
        "            \"Subflow Bwd Pkts\",\n",
        "            \"Subflow Bwd Byts\",\n",
        "            \"Init Bwd Win Byts\",]"
      ],
      "metadata": {
        "id": "DLBcj7cLs72t"
      },
      "execution_count": 8,
      "outputs": []
    },
    {
      "cell_type": "code",
      "source": [
        "for i in to_ignore:\n",
        "  try:\n",
        "    columns.remove(i)\n",
        "  except ValueError:\n",
        "    print(\"Not in list\")"
      ],
      "metadata": {
        "id": "BHDzJ4sSvfYr"
      },
      "execution_count": 9,
      "outputs": []
    },
    {
      "cell_type": "code",
      "source": [
        "def gather_sample(filename, sample_size):\n",
        "  n = sum(1 for line in open(filename))-1  # Calculate number of rows in file\n",
        "  s = n//sample_size  # sample size of 10%\n",
        "  # Works -> 10, 20, 30, 40, 50, 60, 70 (Warnings?), \n",
        "  # 8092510, 13594220\n",
        "  # Each file has the amount of lines.: 7616509, 12794627\n",
        "  print(\"There are %s lines.\" %(str(n)))\n",
        "  skip = sorted(random.sample(range(1, n+1), n-s))  # n+1 to compensate for header \n",
        "  #print(skip)\n",
        "  df = pd.read_csv(filename, skiprows=skip)\n",
        "  print(\"Using %i lines, which represent %f%% of the total\" %(s, (df.size/n)))\n",
        "  return df"
      ],
      "metadata": {
        "id": "hbK-5Be_M-qs"
      },
      "execution_count": 10,
      "outputs": []
    },
    {
      "cell_type": "code",
      "source": [
        "print(sum(1 for line in open(\"/content/ddos_imbalanced/unbalaced_20_80_dataset.csv\"))-1)\n",
        "print(sum(1 for line in open(\"/content/ddos_balanced/final_dataset.csv\"))-1)"
      ],
      "metadata": {
        "colab": {
          "base_uri": "https://localhost:8080/"
        },
        "id": "pSNwDkYDYEQV",
        "outputId": "49ccf596-7f19-4457-dc20-166d03076a84"
      },
      "execution_count": 11,
      "outputs": [
        {
          "output_type": "stream",
          "name": "stdout",
          "text": [
            "7616509\n",
            "12794627\n"
          ]
        }
      ]
    },
    {
      "cell_type": "code",
      "source": [
        "ddos_dataset_unbalanced = gather_sample(\"/content/ddos_imbalanced/unbalaced_20_80_dataset.csv\", 10)\n",
        "ddos_dataset_balanced = gather_sample(\"/content/ddos_balanced/final_dataset.csv\", 10)\n",
        "print(ddos_dataset_unbalanced.size) \n",
        "print(ddos_dataset_balanced.size)"
      ],
      "metadata": {
        "id": "dc0Q32zcNJEL",
        "colab": {
          "base_uri": "https://localhost:8080/"
        },
        "outputId": "3869d545-5119-4d49-bed1-94cb25821c86"
      },
      "execution_count": 12,
      "outputs": [
        {
          "output_type": "stream",
          "name": "stdout",
          "text": [
            "There are 7616509 lines.\n",
            "Using 761650 lines, which represent 8.499990% of the total\n",
            "There are 12794627 lines.\n",
            "Using 1279462 lines, which represent 8.499995% of the total\n",
            "64740250\n",
            "108754270\n"
          ]
        }
      ]
    },
    {
      "cell_type": "code",
      "source": [
        "ddos_dataset_balanced.columns"
      ],
      "metadata": {
        "colab": {
          "base_uri": "https://localhost:8080/"
        },
        "id": "c1BkBjDfdOKE",
        "outputId": "41f8ba2a-7965-4254-aca3-baaccd122ebd"
      },
      "execution_count": 13,
      "outputs": [
        {
          "output_type": "execute_result",
          "data": {
            "text/plain": [
              "Index(['Unnamed: 0', 'Flow ID', 'Src IP', 'Src Port', 'Dst IP', 'Dst Port',\n",
              "       'Protocol', 'Timestamp', 'Flow Duration', 'Tot Fwd Pkts',\n",
              "       'Tot Bwd Pkts', 'TotLen Fwd Pkts', 'TotLen Bwd Pkts', 'Fwd Pkt Len Max',\n",
              "       'Fwd Pkt Len Min', 'Fwd Pkt Len Mean', 'Fwd Pkt Len Std',\n",
              "       'Bwd Pkt Len Max', 'Bwd Pkt Len Min', 'Bwd Pkt Len Mean',\n",
              "       'Bwd Pkt Len Std', 'Flow Byts/s', 'Flow Pkts/s', 'Flow IAT Mean',\n",
              "       'Flow IAT Std', 'Flow IAT Max', 'Flow IAT Min', 'Fwd IAT Tot',\n",
              "       'Fwd IAT Mean', 'Fwd IAT Std', 'Fwd IAT Max', 'Fwd IAT Min',\n",
              "       'Bwd IAT Tot', 'Bwd IAT Mean', 'Bwd IAT Std', 'Bwd IAT Max',\n",
              "       'Bwd IAT Min', 'Fwd PSH Flags', 'Bwd PSH Flags', 'Fwd URG Flags',\n",
              "       'Bwd URG Flags', 'Fwd Header Len', 'Bwd Header Len', 'Fwd Pkts/s',\n",
              "       'Bwd Pkts/s', 'Pkt Len Min', 'Pkt Len Max', 'Pkt Len Mean',\n",
              "       'Pkt Len Std', 'Pkt Len Var', 'FIN Flag Cnt', 'SYN Flag Cnt',\n",
              "       'RST Flag Cnt', 'PSH Flag Cnt', 'ACK Flag Cnt', 'URG Flag Cnt',\n",
              "       'CWE Flag Count', 'ECE Flag Cnt', 'Down/Up Ratio', 'Pkt Size Avg',\n",
              "       'Fwd Seg Size Avg', 'Bwd Seg Size Avg', 'Fwd Byts/b Avg',\n",
              "       'Fwd Pkts/b Avg', 'Fwd Blk Rate Avg', 'Bwd Byts/b Avg',\n",
              "       'Bwd Pkts/b Avg', 'Bwd Blk Rate Avg', 'Subflow Fwd Pkts',\n",
              "       'Subflow Fwd Byts', 'Subflow Bwd Pkts', 'Subflow Bwd Byts',\n",
              "       'Init Fwd Win Byts', 'Init Bwd Win Byts', 'Fwd Act Data Pkts',\n",
              "       'Fwd Seg Size Min', 'Active Mean', 'Active Std', 'Active Max',\n",
              "       'Active Min', 'Idle Mean', 'Idle Std', 'Idle Max', 'Idle Min', 'Label'],\n",
              "      dtype='object')"
            ]
          },
          "metadata": {},
          "execution_count": 13
        }
      ]
    },
    {
      "cell_type": "code",
      "source": [
        "ddos_dataset_balanced.drop(columns=to_ignore)"
      ],
      "metadata": {
        "colab": {
          "base_uri": "https://localhost:8080/",
          "height": 694
        },
        "id": "U_7hnGhUdaHS",
        "outputId": "e4b0d046-e709-42ee-d97f-9606146dfdff"
      },
      "execution_count": 14,
      "outputs": [
        {
          "output_type": "execute_result",
          "data": {
            "text/plain": [
              "         Unnamed: 0         Src IP  Src Port         Dst IP  Dst Port  \\\n",
              "0               624  192.168.4.118      4504   203.73.24.75        80   \n",
              "1               632  192.168.4.118      4508   203.73.24.75        80   \n",
              "2               752  192.168.1.103      1725  97.74.144.108        80   \n",
              "3               799  192.168.4.118      4521   203.73.24.75        80   \n",
              "4               803  192.168.4.118      4522   203.73.24.75        80   \n",
              "...             ...            ...       ...            ...       ...   \n",
              "1279457     7817292   5.39.216.253     32270   172.31.67.83      3389   \n",
              "1279458     1785605   172.31.67.80     57878     172.31.0.2        53   \n",
              "1279459     6179050   172.31.64.37     56337     172.31.0.2        53   \n",
              "1279460     6867628  172.31.67.107       445  183.89.184.71     56186   \n",
              "1279461     4926899   172.31.67.58     61580     172.31.0.2        53   \n",
              "\n",
              "                      Timestamp  Tot Fwd Pkts  Fwd Pkt Len Max  \\\n",
              "0        12/06/2010 08:34:32 AM            29             86.0   \n",
              "1        12/06/2010 08:34:37 AM             2             70.0   \n",
              "2        12/06/2010 08:35:28 AM            47            110.0   \n",
              "3        12/06/2010 08:36:32 AM             1              0.0   \n",
              "4        12/06/2010 08:36:33 AM             1              0.0   \n",
              "...                         ...           ...              ...   \n",
              "1279457     20/02/2018 09:29:04            13            773.0   \n",
              "1279458     20/02/2018 10:16:43             1             42.0   \n",
              "1279459     20/02/2018 12:57:36             1             45.0   \n",
              "1279460     20/02/2018 08:44:31             2              0.0   \n",
              "1279461     20/02/2018 12:43:11             1             47.0   \n",
              "\n",
              "         Fwd Pkt Len Min  Fwd Pkt Len Mean  ...  Fwd Seg Size Min  \\\n",
              "0                    0.0          2.965517  ...                 0   \n",
              "1                    0.0         35.000000  ...                 0   \n",
              "2                    0.0          6.170213  ...                 0   \n",
              "3                    0.0          0.000000  ...                 0   \n",
              "4                    0.0          0.000000  ...                 0   \n",
              "...                  ...               ...  ...               ...   \n",
              "1279457              0.0        114.769231  ...                20   \n",
              "1279458             42.0         42.000000  ...                 8   \n",
              "1279459             45.0         45.000000  ...                 8   \n",
              "1279460              0.0          0.000000  ...                20   \n",
              "1279461             47.0         47.000000  ...                 8   \n",
              "\n",
              "         Active Mean  Active Std  Active Max  Active Min  Idle Mean  Idle Std  \\\n",
              "0                0.0         0.0         0.0         0.0        0.0       0.0   \n",
              "1                0.0         0.0         0.0         0.0        0.0       0.0   \n",
              "2                0.0         0.0         0.0         0.0        0.0       0.0   \n",
              "3                0.0         0.0         0.0         0.0        0.0       0.0   \n",
              "4                0.0         0.0         0.0         0.0        0.0       0.0   \n",
              "...              ...         ...         ...         ...        ...       ...   \n",
              "1279457          0.0         0.0         0.0         0.0        0.0       0.0   \n",
              "1279458          0.0         0.0         0.0         0.0        0.0       0.0   \n",
              "1279459          0.0         0.0         0.0         0.0        0.0       0.0   \n",
              "1279460          0.0         0.0         0.0         0.0        0.0       0.0   \n",
              "1279461          0.0         0.0         0.0         0.0        0.0       0.0   \n",
              "\n",
              "         Idle Max  Idle Min   Label  \n",
              "0             0.0       0.0    ddos  \n",
              "1             0.0       0.0    ddos  \n",
              "2             0.0       0.0    ddos  \n",
              "3             0.0       0.0    ddos  \n",
              "4             0.0       0.0    ddos  \n",
              "...           ...       ...     ...  \n",
              "1279457       0.0       0.0  Benign  \n",
              "1279458       0.0       0.0  Benign  \n",
              "1279459       0.0       0.0  Benign  \n",
              "1279460       0.0       0.0  Benign  \n",
              "1279461       0.0       0.0  Benign  \n",
              "\n",
              "[1279462 rows x 51 columns]"
            ],
            "text/html": [
              "\n",
              "  <div id=\"df-f5002231-917b-4054-a7ad-615ce39d6010\">\n",
              "    <div class=\"colab-df-container\">\n",
              "      <div>\n",
              "<style scoped>\n",
              "    .dataframe tbody tr th:only-of-type {\n",
              "        vertical-align: middle;\n",
              "    }\n",
              "\n",
              "    .dataframe tbody tr th {\n",
              "        vertical-align: top;\n",
              "    }\n",
              "\n",
              "    .dataframe thead th {\n",
              "        text-align: right;\n",
              "    }\n",
              "</style>\n",
              "<table border=\"1\" class=\"dataframe\">\n",
              "  <thead>\n",
              "    <tr style=\"text-align: right;\">\n",
              "      <th></th>\n",
              "      <th>Unnamed: 0</th>\n",
              "      <th>Src IP</th>\n",
              "      <th>Src Port</th>\n",
              "      <th>Dst IP</th>\n",
              "      <th>Dst Port</th>\n",
              "      <th>Timestamp</th>\n",
              "      <th>Tot Fwd Pkts</th>\n",
              "      <th>Fwd Pkt Len Max</th>\n",
              "      <th>Fwd Pkt Len Min</th>\n",
              "      <th>Fwd Pkt Len Mean</th>\n",
              "      <th>...</th>\n",
              "      <th>Fwd Seg Size Min</th>\n",
              "      <th>Active Mean</th>\n",
              "      <th>Active Std</th>\n",
              "      <th>Active Max</th>\n",
              "      <th>Active Min</th>\n",
              "      <th>Idle Mean</th>\n",
              "      <th>Idle Std</th>\n",
              "      <th>Idle Max</th>\n",
              "      <th>Idle Min</th>\n",
              "      <th>Label</th>\n",
              "    </tr>\n",
              "  </thead>\n",
              "  <tbody>\n",
              "    <tr>\n",
              "      <th>0</th>\n",
              "      <td>624</td>\n",
              "      <td>192.168.4.118</td>\n",
              "      <td>4504</td>\n",
              "      <td>203.73.24.75</td>\n",
              "      <td>80</td>\n",
              "      <td>12/06/2010 08:34:32 AM</td>\n",
              "      <td>29</td>\n",
              "      <td>86.0</td>\n",
              "      <td>0.0</td>\n",
              "      <td>2.965517</td>\n",
              "      <td>...</td>\n",
              "      <td>0</td>\n",
              "      <td>0.0</td>\n",
              "      <td>0.0</td>\n",
              "      <td>0.0</td>\n",
              "      <td>0.0</td>\n",
              "      <td>0.0</td>\n",
              "      <td>0.0</td>\n",
              "      <td>0.0</td>\n",
              "      <td>0.0</td>\n",
              "      <td>ddos</td>\n",
              "    </tr>\n",
              "    <tr>\n",
              "      <th>1</th>\n",
              "      <td>632</td>\n",
              "      <td>192.168.4.118</td>\n",
              "      <td>4508</td>\n",
              "      <td>203.73.24.75</td>\n",
              "      <td>80</td>\n",
              "      <td>12/06/2010 08:34:37 AM</td>\n",
              "      <td>2</td>\n",
              "      <td>70.0</td>\n",
              "      <td>0.0</td>\n",
              "      <td>35.000000</td>\n",
              "      <td>...</td>\n",
              "      <td>0</td>\n",
              "      <td>0.0</td>\n",
              "      <td>0.0</td>\n",
              "      <td>0.0</td>\n",
              "      <td>0.0</td>\n",
              "      <td>0.0</td>\n",
              "      <td>0.0</td>\n",
              "      <td>0.0</td>\n",
              "      <td>0.0</td>\n",
              "      <td>ddos</td>\n",
              "    </tr>\n",
              "    <tr>\n",
              "      <th>2</th>\n",
              "      <td>752</td>\n",
              "      <td>192.168.1.103</td>\n",
              "      <td>1725</td>\n",
              "      <td>97.74.144.108</td>\n",
              "      <td>80</td>\n",
              "      <td>12/06/2010 08:35:28 AM</td>\n",
              "      <td>47</td>\n",
              "      <td>110.0</td>\n",
              "      <td>0.0</td>\n",
              "      <td>6.170213</td>\n",
              "      <td>...</td>\n",
              "      <td>0</td>\n",
              "      <td>0.0</td>\n",
              "      <td>0.0</td>\n",
              "      <td>0.0</td>\n",
              "      <td>0.0</td>\n",
              "      <td>0.0</td>\n",
              "      <td>0.0</td>\n",
              "      <td>0.0</td>\n",
              "      <td>0.0</td>\n",
              "      <td>ddos</td>\n",
              "    </tr>\n",
              "    <tr>\n",
              "      <th>3</th>\n",
              "      <td>799</td>\n",
              "      <td>192.168.4.118</td>\n",
              "      <td>4521</td>\n",
              "      <td>203.73.24.75</td>\n",
              "      <td>80</td>\n",
              "      <td>12/06/2010 08:36:32 AM</td>\n",
              "      <td>1</td>\n",
              "      <td>0.0</td>\n",
              "      <td>0.0</td>\n",
              "      <td>0.000000</td>\n",
              "      <td>...</td>\n",
              "      <td>0</td>\n",
              "      <td>0.0</td>\n",
              "      <td>0.0</td>\n",
              "      <td>0.0</td>\n",
              "      <td>0.0</td>\n",
              "      <td>0.0</td>\n",
              "      <td>0.0</td>\n",
              "      <td>0.0</td>\n",
              "      <td>0.0</td>\n",
              "      <td>ddos</td>\n",
              "    </tr>\n",
              "    <tr>\n",
              "      <th>4</th>\n",
              "      <td>803</td>\n",
              "      <td>192.168.4.118</td>\n",
              "      <td>4522</td>\n",
              "      <td>203.73.24.75</td>\n",
              "      <td>80</td>\n",
              "      <td>12/06/2010 08:36:33 AM</td>\n",
              "      <td>1</td>\n",
              "      <td>0.0</td>\n",
              "      <td>0.0</td>\n",
              "      <td>0.000000</td>\n",
              "      <td>...</td>\n",
              "      <td>0</td>\n",
              "      <td>0.0</td>\n",
              "      <td>0.0</td>\n",
              "      <td>0.0</td>\n",
              "      <td>0.0</td>\n",
              "      <td>0.0</td>\n",
              "      <td>0.0</td>\n",
              "      <td>0.0</td>\n",
              "      <td>0.0</td>\n",
              "      <td>ddos</td>\n",
              "    </tr>\n",
              "    <tr>\n",
              "      <th>...</th>\n",
              "      <td>...</td>\n",
              "      <td>...</td>\n",
              "      <td>...</td>\n",
              "      <td>...</td>\n",
              "      <td>...</td>\n",
              "      <td>...</td>\n",
              "      <td>...</td>\n",
              "      <td>...</td>\n",
              "      <td>...</td>\n",
              "      <td>...</td>\n",
              "      <td>...</td>\n",
              "      <td>...</td>\n",
              "      <td>...</td>\n",
              "      <td>...</td>\n",
              "      <td>...</td>\n",
              "      <td>...</td>\n",
              "      <td>...</td>\n",
              "      <td>...</td>\n",
              "      <td>...</td>\n",
              "      <td>...</td>\n",
              "      <td>...</td>\n",
              "    </tr>\n",
              "    <tr>\n",
              "      <th>1279457</th>\n",
              "      <td>7817292</td>\n",
              "      <td>5.39.216.253</td>\n",
              "      <td>32270</td>\n",
              "      <td>172.31.67.83</td>\n",
              "      <td>3389</td>\n",
              "      <td>20/02/2018 09:29:04</td>\n",
              "      <td>13</td>\n",
              "      <td>773.0</td>\n",
              "      <td>0.0</td>\n",
              "      <td>114.769231</td>\n",
              "      <td>...</td>\n",
              "      <td>20</td>\n",
              "      <td>0.0</td>\n",
              "      <td>0.0</td>\n",
              "      <td>0.0</td>\n",
              "      <td>0.0</td>\n",
              "      <td>0.0</td>\n",
              "      <td>0.0</td>\n",
              "      <td>0.0</td>\n",
              "      <td>0.0</td>\n",
              "      <td>Benign</td>\n",
              "    </tr>\n",
              "    <tr>\n",
              "      <th>1279458</th>\n",
              "      <td>1785605</td>\n",
              "      <td>172.31.67.80</td>\n",
              "      <td>57878</td>\n",
              "      <td>172.31.0.2</td>\n",
              "      <td>53</td>\n",
              "      <td>20/02/2018 10:16:43</td>\n",
              "      <td>1</td>\n",
              "      <td>42.0</td>\n",
              "      <td>42.0</td>\n",
              "      <td>42.000000</td>\n",
              "      <td>...</td>\n",
              "      <td>8</td>\n",
              "      <td>0.0</td>\n",
              "      <td>0.0</td>\n",
              "      <td>0.0</td>\n",
              "      <td>0.0</td>\n",
              "      <td>0.0</td>\n",
              "      <td>0.0</td>\n",
              "      <td>0.0</td>\n",
              "      <td>0.0</td>\n",
              "      <td>Benign</td>\n",
              "    </tr>\n",
              "    <tr>\n",
              "      <th>1279459</th>\n",
              "      <td>6179050</td>\n",
              "      <td>172.31.64.37</td>\n",
              "      <td>56337</td>\n",
              "      <td>172.31.0.2</td>\n",
              "      <td>53</td>\n",
              "      <td>20/02/2018 12:57:36</td>\n",
              "      <td>1</td>\n",
              "      <td>45.0</td>\n",
              "      <td>45.0</td>\n",
              "      <td>45.000000</td>\n",
              "      <td>...</td>\n",
              "      <td>8</td>\n",
              "      <td>0.0</td>\n",
              "      <td>0.0</td>\n",
              "      <td>0.0</td>\n",
              "      <td>0.0</td>\n",
              "      <td>0.0</td>\n",
              "      <td>0.0</td>\n",
              "      <td>0.0</td>\n",
              "      <td>0.0</td>\n",
              "      <td>Benign</td>\n",
              "    </tr>\n",
              "    <tr>\n",
              "      <th>1279460</th>\n",
              "      <td>6867628</td>\n",
              "      <td>172.31.67.107</td>\n",
              "      <td>445</td>\n",
              "      <td>183.89.184.71</td>\n",
              "      <td>56186</td>\n",
              "      <td>20/02/2018 08:44:31</td>\n",
              "      <td>2</td>\n",
              "      <td>0.0</td>\n",
              "      <td>0.0</td>\n",
              "      <td>0.000000</td>\n",
              "      <td>...</td>\n",
              "      <td>20</td>\n",
              "      <td>0.0</td>\n",
              "      <td>0.0</td>\n",
              "      <td>0.0</td>\n",
              "      <td>0.0</td>\n",
              "      <td>0.0</td>\n",
              "      <td>0.0</td>\n",
              "      <td>0.0</td>\n",
              "      <td>0.0</td>\n",
              "      <td>Benign</td>\n",
              "    </tr>\n",
              "    <tr>\n",
              "      <th>1279461</th>\n",
              "      <td>4926899</td>\n",
              "      <td>172.31.67.58</td>\n",
              "      <td>61580</td>\n",
              "      <td>172.31.0.2</td>\n",
              "      <td>53</td>\n",
              "      <td>20/02/2018 12:43:11</td>\n",
              "      <td>1</td>\n",
              "      <td>47.0</td>\n",
              "      <td>47.0</td>\n",
              "      <td>47.000000</td>\n",
              "      <td>...</td>\n",
              "      <td>8</td>\n",
              "      <td>0.0</td>\n",
              "      <td>0.0</td>\n",
              "      <td>0.0</td>\n",
              "      <td>0.0</td>\n",
              "      <td>0.0</td>\n",
              "      <td>0.0</td>\n",
              "      <td>0.0</td>\n",
              "      <td>0.0</td>\n",
              "      <td>Benign</td>\n",
              "    </tr>\n",
              "  </tbody>\n",
              "</table>\n",
              "<p>1279462 rows × 51 columns</p>\n",
              "</div>\n",
              "      <button class=\"colab-df-convert\" onclick=\"convertToInteractive('df-f5002231-917b-4054-a7ad-615ce39d6010')\"\n",
              "              title=\"Convert this dataframe to an interactive table.\"\n",
              "              style=\"display:none;\">\n",
              "        \n",
              "  <svg xmlns=\"http://www.w3.org/2000/svg\" height=\"24px\"viewBox=\"0 0 24 24\"\n",
              "       width=\"24px\">\n",
              "    <path d=\"M0 0h24v24H0V0z\" fill=\"none\"/>\n",
              "    <path d=\"M18.56 5.44l.94 2.06.94-2.06 2.06-.94-2.06-.94-.94-2.06-.94 2.06-2.06.94zm-11 1L8.5 8.5l.94-2.06 2.06-.94-2.06-.94L8.5 2.5l-.94 2.06-2.06.94zm10 10l.94 2.06.94-2.06 2.06-.94-2.06-.94-.94-2.06-.94 2.06-2.06.94z\"/><path d=\"M17.41 7.96l-1.37-1.37c-.4-.4-.92-.59-1.43-.59-.52 0-1.04.2-1.43.59L10.3 9.45l-7.72 7.72c-.78.78-.78 2.05 0 2.83L4 21.41c.39.39.9.59 1.41.59.51 0 1.02-.2 1.41-.59l7.78-7.78 2.81-2.81c.8-.78.8-2.07 0-2.86zM5.41 20L4 18.59l7.72-7.72 1.47 1.35L5.41 20z\"/>\n",
              "  </svg>\n",
              "      </button>\n",
              "      \n",
              "  <style>\n",
              "    .colab-df-container {\n",
              "      display:flex;\n",
              "      flex-wrap:wrap;\n",
              "      gap: 12px;\n",
              "    }\n",
              "\n",
              "    .colab-df-convert {\n",
              "      background-color: #E8F0FE;\n",
              "      border: none;\n",
              "      border-radius: 50%;\n",
              "      cursor: pointer;\n",
              "      display: none;\n",
              "      fill: #1967D2;\n",
              "      height: 32px;\n",
              "      padding: 0 0 0 0;\n",
              "      width: 32px;\n",
              "    }\n",
              "\n",
              "    .colab-df-convert:hover {\n",
              "      background-color: #E2EBFA;\n",
              "      box-shadow: 0px 1px 2px rgba(60, 64, 67, 0.3), 0px 1px 3px 1px rgba(60, 64, 67, 0.15);\n",
              "      fill: #174EA6;\n",
              "    }\n",
              "\n",
              "    [theme=dark] .colab-df-convert {\n",
              "      background-color: #3B4455;\n",
              "      fill: #D2E3FC;\n",
              "    }\n",
              "\n",
              "    [theme=dark] .colab-df-convert:hover {\n",
              "      background-color: #434B5C;\n",
              "      box-shadow: 0px 1px 3px 1px rgba(0, 0, 0, 0.15);\n",
              "      filter: drop-shadow(0px 1px 2px rgba(0, 0, 0, 0.3));\n",
              "      fill: #FFFFFF;\n",
              "    }\n",
              "  </style>\n",
              "\n",
              "      <script>\n",
              "        const buttonEl =\n",
              "          document.querySelector('#df-f5002231-917b-4054-a7ad-615ce39d6010 button.colab-df-convert');\n",
              "        buttonEl.style.display =\n",
              "          google.colab.kernel.accessAllowed ? 'block' : 'none';\n",
              "\n",
              "        async function convertToInteractive(key) {\n",
              "          const element = document.querySelector('#df-f5002231-917b-4054-a7ad-615ce39d6010');\n",
              "          const dataTable =\n",
              "            await google.colab.kernel.invokeFunction('convertToInteractive',\n",
              "                                                     [key], {});\n",
              "          if (!dataTable) return;\n",
              "\n",
              "          const docLinkHtml = 'Like what you see? Visit the ' +\n",
              "            '<a target=\"_blank\" href=https://colab.research.google.com/notebooks/data_table.ipynb>data table notebook</a>'\n",
              "            + ' to learn more about interactive tables.';\n",
              "          element.innerHTML = '';\n",
              "          dataTable['output_type'] = 'display_data';\n",
              "          await google.colab.output.renderOutput(dataTable, element);\n",
              "          const docLink = document.createElement('div');\n",
              "          docLink.innerHTML = docLinkHtml;\n",
              "          element.appendChild(docLink);\n",
              "        }\n",
              "      </script>\n",
              "    </div>\n",
              "  </div>\n",
              "  "
            ]
          },
          "metadata": {},
          "execution_count": 14
        }
      ]
    },
    {
      "cell_type": "code",
      "source": [
        "ddos_dataset_balanced.head(10)"
      ],
      "metadata": {
        "colab": {
          "base_uri": "https://localhost:8080/",
          "height": 856
        },
        "id": "CpfHhdaKglnq",
        "outputId": "eaeed4b6-f1af-4492-d176-260fa6c9ded7"
      },
      "execution_count": 15,
      "outputs": [
        {
          "output_type": "execute_result",
          "data": {
            "text/plain": [
              "   Unnamed: 0                                Flow ID         Src IP  Src Port  \\\n",
              "0         624   192.168.4.118-203.73.24.75-4504-80-6  192.168.4.118      4504   \n",
              "1         632   192.168.4.118-203.73.24.75-4508-80-6  192.168.4.118      4508   \n",
              "2         752  192.168.1.103-97.74.144.108-1725-80-6  192.168.1.103      1725   \n",
              "3         799   192.168.4.118-203.73.24.75-4521-80-6  192.168.4.118      4521   \n",
              "4         803   192.168.4.118-203.73.24.75-4522-80-6  192.168.4.118      4522   \n",
              "5         826   192.168.4.118-203.73.24.75-4528-80-6  192.168.4.118      4528   \n",
              "6         860   192.168.4.118-203.73.24.75-4534-80-6  192.168.4.118      4534   \n",
              "7         861   192.168.4.118-203.73.24.75-4534-80-6  192.168.4.118      4534   \n",
              "8         866   192.168.4.118-203.73.24.75-4536-80-6  192.168.4.118      4536   \n",
              "9         868   192.168.4.118-203.73.24.75-4537-80-6  192.168.4.118      4537   \n",
              "\n",
              "          Dst IP  Dst Port  Protocol               Timestamp  Flow Duration  \\\n",
              "0   203.73.24.75        80         6  12/06/2010 08:34:32 AM        3974862   \n",
              "1   203.73.24.75        80         6  12/06/2010 08:34:37 AM         468629   \n",
              "2  97.74.144.108        80         6  12/06/2010 08:35:28 AM       23221098   \n",
              "3   203.73.24.75        80         6  12/06/2010 08:36:32 AM            134   \n",
              "4   203.73.24.75        80         6  12/06/2010 08:36:33 AM             83   \n",
              "5   203.73.24.75        80         6  12/06/2010 08:36:38 AM        3192566   \n",
              "6   203.73.24.75        80         6  12/06/2010 08:36:58 AM        3130574   \n",
              "7   203.73.24.75        80         6  12/06/2010 08:37:01 AM             79   \n",
              "8   203.73.24.75        80         6  12/06/2010 08:37:02 AM            490   \n",
              "9   203.73.24.75        80         6  12/06/2010 08:37:02 AM              6   \n",
              "\n",
              "   Tot Fwd Pkts  ...  Fwd Seg Size Min  Active Mean  Active Std  Active Max  \\\n",
              "0            29  ...                 0          0.0         0.0         0.0   \n",
              "1             2  ...                 0          0.0         0.0         0.0   \n",
              "2            47  ...                 0          0.0         0.0         0.0   \n",
              "3             1  ...                 0          0.0         0.0         0.0   \n",
              "4             1  ...                 0          0.0         0.0         0.0   \n",
              "5            51  ...                 0          0.0         0.0         0.0   \n",
              "6            50  ...                 0          0.0         0.0         0.0   \n",
              "7             1  ...                 0          0.0         0.0         0.0   \n",
              "8             2  ...                 0          0.0         0.0         0.0   \n",
              "9             1  ...                 0          0.0         0.0         0.0   \n",
              "\n",
              "   Active Min  Idle Mean  Idle Std  Idle Max  Idle Min  Label  \n",
              "0         0.0        0.0       0.0       0.0       0.0   ddos  \n",
              "1         0.0        0.0       0.0       0.0       0.0   ddos  \n",
              "2         0.0        0.0       0.0       0.0       0.0   ddos  \n",
              "3         0.0        0.0       0.0       0.0       0.0   ddos  \n",
              "4         0.0        0.0       0.0       0.0       0.0   ddos  \n",
              "5         0.0        0.0       0.0       0.0       0.0   ddos  \n",
              "6         0.0        0.0       0.0       0.0       0.0   ddos  \n",
              "7         0.0        0.0       0.0       0.0       0.0   ddos  \n",
              "8         0.0        0.0       0.0       0.0       0.0   ddos  \n",
              "9         0.0        0.0       0.0       0.0       0.0   ddos  \n",
              "\n",
              "[10 rows x 85 columns]"
            ],
            "text/html": [
              "\n",
              "  <div id=\"df-86c424c1-abfd-4fa6-a761-62e6d7f258a8\">\n",
              "    <div class=\"colab-df-container\">\n",
              "      <div>\n",
              "<style scoped>\n",
              "    .dataframe tbody tr th:only-of-type {\n",
              "        vertical-align: middle;\n",
              "    }\n",
              "\n",
              "    .dataframe tbody tr th {\n",
              "        vertical-align: top;\n",
              "    }\n",
              "\n",
              "    .dataframe thead th {\n",
              "        text-align: right;\n",
              "    }\n",
              "</style>\n",
              "<table border=\"1\" class=\"dataframe\">\n",
              "  <thead>\n",
              "    <tr style=\"text-align: right;\">\n",
              "      <th></th>\n",
              "      <th>Unnamed: 0</th>\n",
              "      <th>Flow ID</th>\n",
              "      <th>Src IP</th>\n",
              "      <th>Src Port</th>\n",
              "      <th>Dst IP</th>\n",
              "      <th>Dst Port</th>\n",
              "      <th>Protocol</th>\n",
              "      <th>Timestamp</th>\n",
              "      <th>Flow Duration</th>\n",
              "      <th>Tot Fwd Pkts</th>\n",
              "      <th>...</th>\n",
              "      <th>Fwd Seg Size Min</th>\n",
              "      <th>Active Mean</th>\n",
              "      <th>Active Std</th>\n",
              "      <th>Active Max</th>\n",
              "      <th>Active Min</th>\n",
              "      <th>Idle Mean</th>\n",
              "      <th>Idle Std</th>\n",
              "      <th>Idle Max</th>\n",
              "      <th>Idle Min</th>\n",
              "      <th>Label</th>\n",
              "    </tr>\n",
              "  </thead>\n",
              "  <tbody>\n",
              "    <tr>\n",
              "      <th>0</th>\n",
              "      <td>624</td>\n",
              "      <td>192.168.4.118-203.73.24.75-4504-80-6</td>\n",
              "      <td>192.168.4.118</td>\n",
              "      <td>4504</td>\n",
              "      <td>203.73.24.75</td>\n",
              "      <td>80</td>\n",
              "      <td>6</td>\n",
              "      <td>12/06/2010 08:34:32 AM</td>\n",
              "      <td>3974862</td>\n",
              "      <td>29</td>\n",
              "      <td>...</td>\n",
              "      <td>0</td>\n",
              "      <td>0.0</td>\n",
              "      <td>0.0</td>\n",
              "      <td>0.0</td>\n",
              "      <td>0.0</td>\n",
              "      <td>0.0</td>\n",
              "      <td>0.0</td>\n",
              "      <td>0.0</td>\n",
              "      <td>0.0</td>\n",
              "      <td>ddos</td>\n",
              "    </tr>\n",
              "    <tr>\n",
              "      <th>1</th>\n",
              "      <td>632</td>\n",
              "      <td>192.168.4.118-203.73.24.75-4508-80-6</td>\n",
              "      <td>192.168.4.118</td>\n",
              "      <td>4508</td>\n",
              "      <td>203.73.24.75</td>\n",
              "      <td>80</td>\n",
              "      <td>6</td>\n",
              "      <td>12/06/2010 08:34:37 AM</td>\n",
              "      <td>468629</td>\n",
              "      <td>2</td>\n",
              "      <td>...</td>\n",
              "      <td>0</td>\n",
              "      <td>0.0</td>\n",
              "      <td>0.0</td>\n",
              "      <td>0.0</td>\n",
              "      <td>0.0</td>\n",
              "      <td>0.0</td>\n",
              "      <td>0.0</td>\n",
              "      <td>0.0</td>\n",
              "      <td>0.0</td>\n",
              "      <td>ddos</td>\n",
              "    </tr>\n",
              "    <tr>\n",
              "      <th>2</th>\n",
              "      <td>752</td>\n",
              "      <td>192.168.1.103-97.74.144.108-1725-80-6</td>\n",
              "      <td>192.168.1.103</td>\n",
              "      <td>1725</td>\n",
              "      <td>97.74.144.108</td>\n",
              "      <td>80</td>\n",
              "      <td>6</td>\n",
              "      <td>12/06/2010 08:35:28 AM</td>\n",
              "      <td>23221098</td>\n",
              "      <td>47</td>\n",
              "      <td>...</td>\n",
              "      <td>0</td>\n",
              "      <td>0.0</td>\n",
              "      <td>0.0</td>\n",
              "      <td>0.0</td>\n",
              "      <td>0.0</td>\n",
              "      <td>0.0</td>\n",
              "      <td>0.0</td>\n",
              "      <td>0.0</td>\n",
              "      <td>0.0</td>\n",
              "      <td>ddos</td>\n",
              "    </tr>\n",
              "    <tr>\n",
              "      <th>3</th>\n",
              "      <td>799</td>\n",
              "      <td>192.168.4.118-203.73.24.75-4521-80-6</td>\n",
              "      <td>192.168.4.118</td>\n",
              "      <td>4521</td>\n",
              "      <td>203.73.24.75</td>\n",
              "      <td>80</td>\n",
              "      <td>6</td>\n",
              "      <td>12/06/2010 08:36:32 AM</td>\n",
              "      <td>134</td>\n",
              "      <td>1</td>\n",
              "      <td>...</td>\n",
              "      <td>0</td>\n",
              "      <td>0.0</td>\n",
              "      <td>0.0</td>\n",
              "      <td>0.0</td>\n",
              "      <td>0.0</td>\n",
              "      <td>0.0</td>\n",
              "      <td>0.0</td>\n",
              "      <td>0.0</td>\n",
              "      <td>0.0</td>\n",
              "      <td>ddos</td>\n",
              "    </tr>\n",
              "    <tr>\n",
              "      <th>4</th>\n",
              "      <td>803</td>\n",
              "      <td>192.168.4.118-203.73.24.75-4522-80-6</td>\n",
              "      <td>192.168.4.118</td>\n",
              "      <td>4522</td>\n",
              "      <td>203.73.24.75</td>\n",
              "      <td>80</td>\n",
              "      <td>6</td>\n",
              "      <td>12/06/2010 08:36:33 AM</td>\n",
              "      <td>83</td>\n",
              "      <td>1</td>\n",
              "      <td>...</td>\n",
              "      <td>0</td>\n",
              "      <td>0.0</td>\n",
              "      <td>0.0</td>\n",
              "      <td>0.0</td>\n",
              "      <td>0.0</td>\n",
              "      <td>0.0</td>\n",
              "      <td>0.0</td>\n",
              "      <td>0.0</td>\n",
              "      <td>0.0</td>\n",
              "      <td>ddos</td>\n",
              "    </tr>\n",
              "    <tr>\n",
              "      <th>5</th>\n",
              "      <td>826</td>\n",
              "      <td>192.168.4.118-203.73.24.75-4528-80-6</td>\n",
              "      <td>192.168.4.118</td>\n",
              "      <td>4528</td>\n",
              "      <td>203.73.24.75</td>\n",
              "      <td>80</td>\n",
              "      <td>6</td>\n",
              "      <td>12/06/2010 08:36:38 AM</td>\n",
              "      <td>3192566</td>\n",
              "      <td>51</td>\n",
              "      <td>...</td>\n",
              "      <td>0</td>\n",
              "      <td>0.0</td>\n",
              "      <td>0.0</td>\n",
              "      <td>0.0</td>\n",
              "      <td>0.0</td>\n",
              "      <td>0.0</td>\n",
              "      <td>0.0</td>\n",
              "      <td>0.0</td>\n",
              "      <td>0.0</td>\n",
              "      <td>ddos</td>\n",
              "    </tr>\n",
              "    <tr>\n",
              "      <th>6</th>\n",
              "      <td>860</td>\n",
              "      <td>192.168.4.118-203.73.24.75-4534-80-6</td>\n",
              "      <td>192.168.4.118</td>\n",
              "      <td>4534</td>\n",
              "      <td>203.73.24.75</td>\n",
              "      <td>80</td>\n",
              "      <td>6</td>\n",
              "      <td>12/06/2010 08:36:58 AM</td>\n",
              "      <td>3130574</td>\n",
              "      <td>50</td>\n",
              "      <td>...</td>\n",
              "      <td>0</td>\n",
              "      <td>0.0</td>\n",
              "      <td>0.0</td>\n",
              "      <td>0.0</td>\n",
              "      <td>0.0</td>\n",
              "      <td>0.0</td>\n",
              "      <td>0.0</td>\n",
              "      <td>0.0</td>\n",
              "      <td>0.0</td>\n",
              "      <td>ddos</td>\n",
              "    </tr>\n",
              "    <tr>\n",
              "      <th>7</th>\n",
              "      <td>861</td>\n",
              "      <td>192.168.4.118-203.73.24.75-4534-80-6</td>\n",
              "      <td>192.168.4.118</td>\n",
              "      <td>4534</td>\n",
              "      <td>203.73.24.75</td>\n",
              "      <td>80</td>\n",
              "      <td>6</td>\n",
              "      <td>12/06/2010 08:37:01 AM</td>\n",
              "      <td>79</td>\n",
              "      <td>1</td>\n",
              "      <td>...</td>\n",
              "      <td>0</td>\n",
              "      <td>0.0</td>\n",
              "      <td>0.0</td>\n",
              "      <td>0.0</td>\n",
              "      <td>0.0</td>\n",
              "      <td>0.0</td>\n",
              "      <td>0.0</td>\n",
              "      <td>0.0</td>\n",
              "      <td>0.0</td>\n",
              "      <td>ddos</td>\n",
              "    </tr>\n",
              "    <tr>\n",
              "      <th>8</th>\n",
              "      <td>866</td>\n",
              "      <td>192.168.4.118-203.73.24.75-4536-80-6</td>\n",
              "      <td>192.168.4.118</td>\n",
              "      <td>4536</td>\n",
              "      <td>203.73.24.75</td>\n",
              "      <td>80</td>\n",
              "      <td>6</td>\n",
              "      <td>12/06/2010 08:37:02 AM</td>\n",
              "      <td>490</td>\n",
              "      <td>2</td>\n",
              "      <td>...</td>\n",
              "      <td>0</td>\n",
              "      <td>0.0</td>\n",
              "      <td>0.0</td>\n",
              "      <td>0.0</td>\n",
              "      <td>0.0</td>\n",
              "      <td>0.0</td>\n",
              "      <td>0.0</td>\n",
              "      <td>0.0</td>\n",
              "      <td>0.0</td>\n",
              "      <td>ddos</td>\n",
              "    </tr>\n",
              "    <tr>\n",
              "      <th>9</th>\n",
              "      <td>868</td>\n",
              "      <td>192.168.4.118-203.73.24.75-4537-80-6</td>\n",
              "      <td>192.168.4.118</td>\n",
              "      <td>4537</td>\n",
              "      <td>203.73.24.75</td>\n",
              "      <td>80</td>\n",
              "      <td>6</td>\n",
              "      <td>12/06/2010 08:37:02 AM</td>\n",
              "      <td>6</td>\n",
              "      <td>1</td>\n",
              "      <td>...</td>\n",
              "      <td>0</td>\n",
              "      <td>0.0</td>\n",
              "      <td>0.0</td>\n",
              "      <td>0.0</td>\n",
              "      <td>0.0</td>\n",
              "      <td>0.0</td>\n",
              "      <td>0.0</td>\n",
              "      <td>0.0</td>\n",
              "      <td>0.0</td>\n",
              "      <td>ddos</td>\n",
              "    </tr>\n",
              "  </tbody>\n",
              "</table>\n",
              "<p>10 rows × 85 columns</p>\n",
              "</div>\n",
              "      <button class=\"colab-df-convert\" onclick=\"convertToInteractive('df-86c424c1-abfd-4fa6-a761-62e6d7f258a8')\"\n",
              "              title=\"Convert this dataframe to an interactive table.\"\n",
              "              style=\"display:none;\">\n",
              "        \n",
              "  <svg xmlns=\"http://www.w3.org/2000/svg\" height=\"24px\"viewBox=\"0 0 24 24\"\n",
              "       width=\"24px\">\n",
              "    <path d=\"M0 0h24v24H0V0z\" fill=\"none\"/>\n",
              "    <path d=\"M18.56 5.44l.94 2.06.94-2.06 2.06-.94-2.06-.94-.94-2.06-.94 2.06-2.06.94zm-11 1L8.5 8.5l.94-2.06 2.06-.94-2.06-.94L8.5 2.5l-.94 2.06-2.06.94zm10 10l.94 2.06.94-2.06 2.06-.94-2.06-.94-.94-2.06-.94 2.06-2.06.94z\"/><path d=\"M17.41 7.96l-1.37-1.37c-.4-.4-.92-.59-1.43-.59-.52 0-1.04.2-1.43.59L10.3 9.45l-7.72 7.72c-.78.78-.78 2.05 0 2.83L4 21.41c.39.39.9.59 1.41.59.51 0 1.02-.2 1.41-.59l7.78-7.78 2.81-2.81c.8-.78.8-2.07 0-2.86zM5.41 20L4 18.59l7.72-7.72 1.47 1.35L5.41 20z\"/>\n",
              "  </svg>\n",
              "      </button>\n",
              "      \n",
              "  <style>\n",
              "    .colab-df-container {\n",
              "      display:flex;\n",
              "      flex-wrap:wrap;\n",
              "      gap: 12px;\n",
              "    }\n",
              "\n",
              "    .colab-df-convert {\n",
              "      background-color: #E8F0FE;\n",
              "      border: none;\n",
              "      border-radius: 50%;\n",
              "      cursor: pointer;\n",
              "      display: none;\n",
              "      fill: #1967D2;\n",
              "      height: 32px;\n",
              "      padding: 0 0 0 0;\n",
              "      width: 32px;\n",
              "    }\n",
              "\n",
              "    .colab-df-convert:hover {\n",
              "      background-color: #E2EBFA;\n",
              "      box-shadow: 0px 1px 2px rgba(60, 64, 67, 0.3), 0px 1px 3px 1px rgba(60, 64, 67, 0.15);\n",
              "      fill: #174EA6;\n",
              "    }\n",
              "\n",
              "    [theme=dark] .colab-df-convert {\n",
              "      background-color: #3B4455;\n",
              "      fill: #D2E3FC;\n",
              "    }\n",
              "\n",
              "    [theme=dark] .colab-df-convert:hover {\n",
              "      background-color: #434B5C;\n",
              "      box-shadow: 0px 1px 3px 1px rgba(0, 0, 0, 0.15);\n",
              "      filter: drop-shadow(0px 1px 2px rgba(0, 0, 0, 0.3));\n",
              "      fill: #FFFFFF;\n",
              "    }\n",
              "  </style>\n",
              "\n",
              "      <script>\n",
              "        const buttonEl =\n",
              "          document.querySelector('#df-86c424c1-abfd-4fa6-a761-62e6d7f258a8 button.colab-df-convert');\n",
              "        buttonEl.style.display =\n",
              "          google.colab.kernel.accessAllowed ? 'block' : 'none';\n",
              "\n",
              "        async function convertToInteractive(key) {\n",
              "          const element = document.querySelector('#df-86c424c1-abfd-4fa6-a761-62e6d7f258a8');\n",
              "          const dataTable =\n",
              "            await google.colab.kernel.invokeFunction('convertToInteractive',\n",
              "                                                     [key], {});\n",
              "          if (!dataTable) return;\n",
              "\n",
              "          const docLinkHtml = 'Like what you see? Visit the ' +\n",
              "            '<a target=\"_blank\" href=https://colab.research.google.com/notebooks/data_table.ipynb>data table notebook</a>'\n",
              "            + ' to learn more about interactive tables.';\n",
              "          element.innerHTML = '';\n",
              "          dataTable['output_type'] = 'display_data';\n",
              "          await google.colab.output.renderOutput(dataTable, element);\n",
              "          const docLink = document.createElement('div');\n",
              "          docLink.innerHTML = docLinkHtml;\n",
              "          element.appendChild(docLink);\n",
              "        }\n",
              "      </script>\n",
              "    </div>\n",
              "  </div>\n",
              "  "
            ]
          },
          "metadata": {},
          "execution_count": 15
        }
      ]
    },
    {
      "cell_type": "code",
      "source": [
        "df = ddos_dataset_balanced.drop(columns=to_ignore)"
      ],
      "metadata": {
        "id": "2oD7Z0OgpAk9"
      },
      "execution_count": 16,
      "outputs": []
    },
    {
      "cell_type": "code",
      "source": [
        "df.shape"
      ],
      "metadata": {
        "colab": {
          "base_uri": "https://localhost:8080/"
        },
        "id": "WvFGLBDhsi-f",
        "outputId": "648891ba-40a6-4918-fda2-c446f0c17fa6"
      },
      "execution_count": 17,
      "outputs": [
        {
          "output_type": "execute_result",
          "data": {
            "text/plain": [
              "(1279462, 51)"
            ]
          },
          "metadata": {},
          "execution_count": 17
        }
      ]
    },
    {
      "cell_type": "code",
      "source": [
        "df.head(5)"
      ],
      "metadata": {
        "colab": {
          "base_uri": "https://localhost:8080/",
          "height": 419
        },
        "id": "opSVeSLUpETz",
        "outputId": "4706bfdd-0576-487d-9bbe-f6afc899d165"
      },
      "execution_count": 18,
      "outputs": [
        {
          "output_type": "execute_result",
          "data": {
            "text/plain": [
              "   Unnamed: 0         Src IP  Src Port         Dst IP  Dst Port  \\\n",
              "0         624  192.168.4.118      4504   203.73.24.75        80   \n",
              "1         632  192.168.4.118      4508   203.73.24.75        80   \n",
              "2         752  192.168.1.103      1725  97.74.144.108        80   \n",
              "3         799  192.168.4.118      4521   203.73.24.75        80   \n",
              "4         803  192.168.4.118      4522   203.73.24.75        80   \n",
              "\n",
              "                Timestamp  Tot Fwd Pkts  Fwd Pkt Len Max  Fwd Pkt Len Min  \\\n",
              "0  12/06/2010 08:34:32 AM            29             86.0              0.0   \n",
              "1  12/06/2010 08:34:37 AM             2             70.0              0.0   \n",
              "2  12/06/2010 08:35:28 AM            47            110.0              0.0   \n",
              "3  12/06/2010 08:36:32 AM             1              0.0              0.0   \n",
              "4  12/06/2010 08:36:33 AM             1              0.0              0.0   \n",
              "\n",
              "   Fwd Pkt Len Mean  ...  Fwd Seg Size Min  Active Mean  Active Std  \\\n",
              "0          2.965517  ...                 0          0.0         0.0   \n",
              "1         35.000000  ...                 0          0.0         0.0   \n",
              "2          6.170213  ...                 0          0.0         0.0   \n",
              "3          0.000000  ...                 0          0.0         0.0   \n",
              "4          0.000000  ...                 0          0.0         0.0   \n",
              "\n",
              "   Active Max  Active Min  Idle Mean  Idle Std  Idle Max  Idle Min  Label  \n",
              "0         0.0         0.0        0.0       0.0       0.0       0.0   ddos  \n",
              "1         0.0         0.0        0.0       0.0       0.0       0.0   ddos  \n",
              "2         0.0         0.0        0.0       0.0       0.0       0.0   ddos  \n",
              "3         0.0         0.0        0.0       0.0       0.0       0.0   ddos  \n",
              "4         0.0         0.0        0.0       0.0       0.0       0.0   ddos  \n",
              "\n",
              "[5 rows x 51 columns]"
            ],
            "text/html": [
              "\n",
              "  <div id=\"df-282956f5-7bda-487e-a67f-9cdcdbfb9e3e\">\n",
              "    <div class=\"colab-df-container\">\n",
              "      <div>\n",
              "<style scoped>\n",
              "    .dataframe tbody tr th:only-of-type {\n",
              "        vertical-align: middle;\n",
              "    }\n",
              "\n",
              "    .dataframe tbody tr th {\n",
              "        vertical-align: top;\n",
              "    }\n",
              "\n",
              "    .dataframe thead th {\n",
              "        text-align: right;\n",
              "    }\n",
              "</style>\n",
              "<table border=\"1\" class=\"dataframe\">\n",
              "  <thead>\n",
              "    <tr style=\"text-align: right;\">\n",
              "      <th></th>\n",
              "      <th>Unnamed: 0</th>\n",
              "      <th>Src IP</th>\n",
              "      <th>Src Port</th>\n",
              "      <th>Dst IP</th>\n",
              "      <th>Dst Port</th>\n",
              "      <th>Timestamp</th>\n",
              "      <th>Tot Fwd Pkts</th>\n",
              "      <th>Fwd Pkt Len Max</th>\n",
              "      <th>Fwd Pkt Len Min</th>\n",
              "      <th>Fwd Pkt Len Mean</th>\n",
              "      <th>...</th>\n",
              "      <th>Fwd Seg Size Min</th>\n",
              "      <th>Active Mean</th>\n",
              "      <th>Active Std</th>\n",
              "      <th>Active Max</th>\n",
              "      <th>Active Min</th>\n",
              "      <th>Idle Mean</th>\n",
              "      <th>Idle Std</th>\n",
              "      <th>Idle Max</th>\n",
              "      <th>Idle Min</th>\n",
              "      <th>Label</th>\n",
              "    </tr>\n",
              "  </thead>\n",
              "  <tbody>\n",
              "    <tr>\n",
              "      <th>0</th>\n",
              "      <td>624</td>\n",
              "      <td>192.168.4.118</td>\n",
              "      <td>4504</td>\n",
              "      <td>203.73.24.75</td>\n",
              "      <td>80</td>\n",
              "      <td>12/06/2010 08:34:32 AM</td>\n",
              "      <td>29</td>\n",
              "      <td>86.0</td>\n",
              "      <td>0.0</td>\n",
              "      <td>2.965517</td>\n",
              "      <td>...</td>\n",
              "      <td>0</td>\n",
              "      <td>0.0</td>\n",
              "      <td>0.0</td>\n",
              "      <td>0.0</td>\n",
              "      <td>0.0</td>\n",
              "      <td>0.0</td>\n",
              "      <td>0.0</td>\n",
              "      <td>0.0</td>\n",
              "      <td>0.0</td>\n",
              "      <td>ddos</td>\n",
              "    </tr>\n",
              "    <tr>\n",
              "      <th>1</th>\n",
              "      <td>632</td>\n",
              "      <td>192.168.4.118</td>\n",
              "      <td>4508</td>\n",
              "      <td>203.73.24.75</td>\n",
              "      <td>80</td>\n",
              "      <td>12/06/2010 08:34:37 AM</td>\n",
              "      <td>2</td>\n",
              "      <td>70.0</td>\n",
              "      <td>0.0</td>\n",
              "      <td>35.000000</td>\n",
              "      <td>...</td>\n",
              "      <td>0</td>\n",
              "      <td>0.0</td>\n",
              "      <td>0.0</td>\n",
              "      <td>0.0</td>\n",
              "      <td>0.0</td>\n",
              "      <td>0.0</td>\n",
              "      <td>0.0</td>\n",
              "      <td>0.0</td>\n",
              "      <td>0.0</td>\n",
              "      <td>ddos</td>\n",
              "    </tr>\n",
              "    <tr>\n",
              "      <th>2</th>\n",
              "      <td>752</td>\n",
              "      <td>192.168.1.103</td>\n",
              "      <td>1725</td>\n",
              "      <td>97.74.144.108</td>\n",
              "      <td>80</td>\n",
              "      <td>12/06/2010 08:35:28 AM</td>\n",
              "      <td>47</td>\n",
              "      <td>110.0</td>\n",
              "      <td>0.0</td>\n",
              "      <td>6.170213</td>\n",
              "      <td>...</td>\n",
              "      <td>0</td>\n",
              "      <td>0.0</td>\n",
              "      <td>0.0</td>\n",
              "      <td>0.0</td>\n",
              "      <td>0.0</td>\n",
              "      <td>0.0</td>\n",
              "      <td>0.0</td>\n",
              "      <td>0.0</td>\n",
              "      <td>0.0</td>\n",
              "      <td>ddos</td>\n",
              "    </tr>\n",
              "    <tr>\n",
              "      <th>3</th>\n",
              "      <td>799</td>\n",
              "      <td>192.168.4.118</td>\n",
              "      <td>4521</td>\n",
              "      <td>203.73.24.75</td>\n",
              "      <td>80</td>\n",
              "      <td>12/06/2010 08:36:32 AM</td>\n",
              "      <td>1</td>\n",
              "      <td>0.0</td>\n",
              "      <td>0.0</td>\n",
              "      <td>0.000000</td>\n",
              "      <td>...</td>\n",
              "      <td>0</td>\n",
              "      <td>0.0</td>\n",
              "      <td>0.0</td>\n",
              "      <td>0.0</td>\n",
              "      <td>0.0</td>\n",
              "      <td>0.0</td>\n",
              "      <td>0.0</td>\n",
              "      <td>0.0</td>\n",
              "      <td>0.0</td>\n",
              "      <td>ddos</td>\n",
              "    </tr>\n",
              "    <tr>\n",
              "      <th>4</th>\n",
              "      <td>803</td>\n",
              "      <td>192.168.4.118</td>\n",
              "      <td>4522</td>\n",
              "      <td>203.73.24.75</td>\n",
              "      <td>80</td>\n",
              "      <td>12/06/2010 08:36:33 AM</td>\n",
              "      <td>1</td>\n",
              "      <td>0.0</td>\n",
              "      <td>0.0</td>\n",
              "      <td>0.000000</td>\n",
              "      <td>...</td>\n",
              "      <td>0</td>\n",
              "      <td>0.0</td>\n",
              "      <td>0.0</td>\n",
              "      <td>0.0</td>\n",
              "      <td>0.0</td>\n",
              "      <td>0.0</td>\n",
              "      <td>0.0</td>\n",
              "      <td>0.0</td>\n",
              "      <td>0.0</td>\n",
              "      <td>ddos</td>\n",
              "    </tr>\n",
              "  </tbody>\n",
              "</table>\n",
              "<p>5 rows × 51 columns</p>\n",
              "</div>\n",
              "      <button class=\"colab-df-convert\" onclick=\"convertToInteractive('df-282956f5-7bda-487e-a67f-9cdcdbfb9e3e')\"\n",
              "              title=\"Convert this dataframe to an interactive table.\"\n",
              "              style=\"display:none;\">\n",
              "        \n",
              "  <svg xmlns=\"http://www.w3.org/2000/svg\" height=\"24px\"viewBox=\"0 0 24 24\"\n",
              "       width=\"24px\">\n",
              "    <path d=\"M0 0h24v24H0V0z\" fill=\"none\"/>\n",
              "    <path d=\"M18.56 5.44l.94 2.06.94-2.06 2.06-.94-2.06-.94-.94-2.06-.94 2.06-2.06.94zm-11 1L8.5 8.5l.94-2.06 2.06-.94-2.06-.94L8.5 2.5l-.94 2.06-2.06.94zm10 10l.94 2.06.94-2.06 2.06-.94-2.06-.94-.94-2.06-.94 2.06-2.06.94z\"/><path d=\"M17.41 7.96l-1.37-1.37c-.4-.4-.92-.59-1.43-.59-.52 0-1.04.2-1.43.59L10.3 9.45l-7.72 7.72c-.78.78-.78 2.05 0 2.83L4 21.41c.39.39.9.59 1.41.59.51 0 1.02-.2 1.41-.59l7.78-7.78 2.81-2.81c.8-.78.8-2.07 0-2.86zM5.41 20L4 18.59l7.72-7.72 1.47 1.35L5.41 20z\"/>\n",
              "  </svg>\n",
              "      </button>\n",
              "      \n",
              "  <style>\n",
              "    .colab-df-container {\n",
              "      display:flex;\n",
              "      flex-wrap:wrap;\n",
              "      gap: 12px;\n",
              "    }\n",
              "\n",
              "    .colab-df-convert {\n",
              "      background-color: #E8F0FE;\n",
              "      border: none;\n",
              "      border-radius: 50%;\n",
              "      cursor: pointer;\n",
              "      display: none;\n",
              "      fill: #1967D2;\n",
              "      height: 32px;\n",
              "      padding: 0 0 0 0;\n",
              "      width: 32px;\n",
              "    }\n",
              "\n",
              "    .colab-df-convert:hover {\n",
              "      background-color: #E2EBFA;\n",
              "      box-shadow: 0px 1px 2px rgba(60, 64, 67, 0.3), 0px 1px 3px 1px rgba(60, 64, 67, 0.15);\n",
              "      fill: #174EA6;\n",
              "    }\n",
              "\n",
              "    [theme=dark] .colab-df-convert {\n",
              "      background-color: #3B4455;\n",
              "      fill: #D2E3FC;\n",
              "    }\n",
              "\n",
              "    [theme=dark] .colab-df-convert:hover {\n",
              "      background-color: #434B5C;\n",
              "      box-shadow: 0px 1px 3px 1px rgba(0, 0, 0, 0.15);\n",
              "      filter: drop-shadow(0px 1px 2px rgba(0, 0, 0, 0.3));\n",
              "      fill: #FFFFFF;\n",
              "    }\n",
              "  </style>\n",
              "\n",
              "      <script>\n",
              "        const buttonEl =\n",
              "          document.querySelector('#df-282956f5-7bda-487e-a67f-9cdcdbfb9e3e button.colab-df-convert');\n",
              "        buttonEl.style.display =\n",
              "          google.colab.kernel.accessAllowed ? 'block' : 'none';\n",
              "\n",
              "        async function convertToInteractive(key) {\n",
              "          const element = document.querySelector('#df-282956f5-7bda-487e-a67f-9cdcdbfb9e3e');\n",
              "          const dataTable =\n",
              "            await google.colab.kernel.invokeFunction('convertToInteractive',\n",
              "                                                     [key], {});\n",
              "          if (!dataTable) return;\n",
              "\n",
              "          const docLinkHtml = 'Like what you see? Visit the ' +\n",
              "            '<a target=\"_blank\" href=https://colab.research.google.com/notebooks/data_table.ipynb>data table notebook</a>'\n",
              "            + ' to learn more about interactive tables.';\n",
              "          element.innerHTML = '';\n",
              "          dataTable['output_type'] = 'display_data';\n",
              "          await google.colab.output.renderOutput(dataTable, element);\n",
              "          const docLink = document.createElement('div');\n",
              "          docLink.innerHTML = docLinkHtml;\n",
              "          element.appendChild(docLink);\n",
              "        }\n",
              "      </script>\n",
              "    </div>\n",
              "  </div>\n",
              "  "
            ]
          },
          "metadata": {},
          "execution_count": 18
        }
      ]
    },
    {
      "cell_type": "code",
      "source": [
        "df.isnull().sum()"
      ],
      "metadata": {
        "colab": {
          "base_uri": "https://localhost:8080/"
        },
        "id": "YX6F4d7NyLJ6",
        "outputId": "ab0f5b4f-f135-4d07-c7e4-f865af1dd5ca"
      },
      "execution_count": 19,
      "outputs": [
        {
          "output_type": "execute_result",
          "data": {
            "text/plain": [
              "Unnamed: 0           0\n",
              "Src IP               0\n",
              "Src Port             0\n",
              "Dst IP               0\n",
              "Dst Port             0\n",
              "Timestamp            0\n",
              "Tot Fwd Pkts         0\n",
              "Fwd Pkt Len Max      0\n",
              "Fwd Pkt Len Min      0\n",
              "Fwd Pkt Len Mean     0\n",
              "Fwd Pkt Len Std      0\n",
              "Bwd Pkt Len Min      0\n",
              "Flow IAT Mean        0\n",
              "Flow IAT Std         0\n",
              "Flow IAT Max         0\n",
              "Flow IAT Min         0\n",
              "Fwd IAT Tot          0\n",
              "Fwd IAT Mean         0\n",
              "Fwd IAT Std          0\n",
              "Fwd IAT Max          0\n",
              "Fwd IAT Min          0\n",
              "Fwd Header Len       0\n",
              "Fwd Pkts/s           0\n",
              "Pkt Len Min          0\n",
              "Pkt Len Max          0\n",
              "Pkt Len Mean         0\n",
              "Pkt Len Std          0\n",
              "Pkt Len Var          0\n",
              "SYN Flag Cnt         0\n",
              "RST Flag Cnt         0\n",
              "PSH Flag Cnt         0\n",
              "ACK Flag Cnt         0\n",
              "CWE Flag Count       0\n",
              "ECE Flag Cnt         0\n",
              "Down/Up Ratio        0\n",
              "Pkt Size Avg         0\n",
              "Fwd Seg Size Avg     0\n",
              "Subflow Fwd Pkts     0\n",
              "Subflow Fwd Byts     0\n",
              "Init Fwd Win Byts    0\n",
              "Fwd Act Data Pkts    0\n",
              "Fwd Seg Size Min     0\n",
              "Active Mean          0\n",
              "Active Std           0\n",
              "Active Max           0\n",
              "Active Min           0\n",
              "Idle Mean            0\n",
              "Idle Std             0\n",
              "Idle Max             0\n",
              "Idle Min             0\n",
              "Label                0\n",
              "dtype: int64"
            ]
          },
          "metadata": {},
          "execution_count": 19
        }
      ]
    },
    {
      "cell_type": "code",
      "source": [
        "df.shape"
      ],
      "metadata": {
        "id": "96BqeLPDt_MC",
        "colab": {
          "base_uri": "https://localhost:8080/"
        },
        "outputId": "47b4e1a4-c6d3-4aeb-dfc7-0df59121c16e"
      },
      "execution_count": 20,
      "outputs": [
        {
          "output_type": "execute_result",
          "data": {
            "text/plain": [
              "(1279462, 51)"
            ]
          },
          "metadata": {},
          "execution_count": 20
        }
      ]
    },
    {
      "cell_type": "markdown",
      "source": [
        "We can see there's 12794627 lines, 51 columns remaining. Time to study each column and verify if they matter."
      ],
      "metadata": {
        "id": "Ci_50EAd0OVi"
      }
    },
    {
      "cell_type": "markdown",
      "source": [
        "## Variables"
      ],
      "metadata": {
        "id": "vIeC3C9g0ZJb"
      }
    },
    {
      "cell_type": "markdown",
      "source": [
        "### IPs and Ports"
      ],
      "metadata": {
        "id": "7sgz2G5Z0cBS"
      }
    },
    {
      "cell_type": "markdown",
      "source": [
        "Studying variables [\"Src IP\", \"Src Port\", \"Dst IP\", \"Dst Port\"]. To start, let us gather a sample of it.\n"
      ],
      "metadata": {
        "id": "308_0FZ20jNp"
      }
    },
    {
      "cell_type": "code",
      "source": [
        "df[\"Src IP\"]"
      ],
      "metadata": {
        "colab": {
          "base_uri": "https://localhost:8080/"
        },
        "id": "bdW4z4AQ0Nwq",
        "outputId": "7de1119f-6be2-4a4c-b652-cf6be406f616"
      },
      "execution_count": 21,
      "outputs": [
        {
          "output_type": "execute_result",
          "data": {
            "text/plain": [
              "0          192.168.4.118\n",
              "1          192.168.4.118\n",
              "2          192.168.1.103\n",
              "3          192.168.4.118\n",
              "4          192.168.4.118\n",
              "               ...      \n",
              "1279457     5.39.216.253\n",
              "1279458     172.31.67.80\n",
              "1279459     172.31.64.37\n",
              "1279460    172.31.67.107\n",
              "1279461     172.31.67.58\n",
              "Name: Src IP, Length: 1279462, dtype: object"
            ]
          },
          "metadata": {},
          "execution_count": 21
        }
      ]
    },
    {
      "cell_type": "code",
      "source": [
        "df[\"Src Port\"]"
      ],
      "metadata": {
        "colab": {
          "base_uri": "https://localhost:8080/"
        },
        "outputId": "820794c1-6ee3-4e1f-e438-c6765f05e7b1",
        "id": "temwzynN44zb"
      },
      "execution_count": 22,
      "outputs": [
        {
          "output_type": "execute_result",
          "data": {
            "text/plain": [
              "0           4504\n",
              "1           4508\n",
              "2           1725\n",
              "3           4521\n",
              "4           4522\n",
              "           ...  \n",
              "1279457    32270\n",
              "1279458    57878\n",
              "1279459    56337\n",
              "1279460      445\n",
              "1279461    61580\n",
              "Name: Src Port, Length: 1279462, dtype: int64"
            ]
          },
          "metadata": {},
          "execution_count": 22
        }
      ]
    },
    {
      "cell_type": "code",
      "source": [
        "df[\"Dst IP\"]"
      ],
      "metadata": {
        "colab": {
          "base_uri": "https://localhost:8080/"
        },
        "outputId": "c3c7cb9f-8885-4e07-e03a-97925cd6f8b7",
        "id": "mmkhnzTx4487"
      },
      "execution_count": 23,
      "outputs": [
        {
          "output_type": "execute_result",
          "data": {
            "text/plain": [
              "0           203.73.24.75\n",
              "1           203.73.24.75\n",
              "2          97.74.144.108\n",
              "3           203.73.24.75\n",
              "4           203.73.24.75\n",
              "               ...      \n",
              "1279457     172.31.67.83\n",
              "1279458       172.31.0.2\n",
              "1279459       172.31.0.2\n",
              "1279460    183.89.184.71\n",
              "1279461       172.31.0.2\n",
              "Name: Dst IP, Length: 1279462, dtype: object"
            ]
          },
          "metadata": {},
          "execution_count": 23
        }
      ]
    },
    {
      "cell_type": "code",
      "source": [
        "df[\"Dst Port\"]"
      ],
      "metadata": {
        "colab": {
          "base_uri": "https://localhost:8080/"
        },
        "outputId": "4d84f7ab-f24b-48a9-cd10-162871c1f4f5",
        "id": "blV1ggDO45Eb"
      },
      "execution_count": 24,
      "outputs": [
        {
          "output_type": "execute_result",
          "data": {
            "text/plain": [
              "0             80\n",
              "1             80\n",
              "2             80\n",
              "3             80\n",
              "4             80\n",
              "           ...  \n",
              "1279457     3389\n",
              "1279458       53\n",
              "1279459       53\n",
              "1279460    56186\n",
              "1279461       53\n",
              "Name: Dst Port, Length: 1279462, dtype: int64"
            ]
          },
          "metadata": {},
          "execution_count": 24
        }
      ]
    },
    {
      "cell_type": "markdown",
      "source": [
        "Src IP, Dst IP are string types, while the Ports are Int64. Considering computers and networking, the port is mostly used to tell where in the IP to send the message, so it's more of a categorical type of data?"
      ],
      "metadata": {
        "id": "qObfV-vZ4_Dq"
      }
    },
    {
      "cell_type": "markdown",
      "source": [
        "Even more, do we really need the IP, considering that it may change across machines? If we train the model with some IPs, it is possible that the AI only study for these specific IP and not others. Ports may vary as well, but there seem to be a good variety of ports. "
      ],
      "metadata": {
        "id": "5B4TNsx35RsS"
      }
    },
    {
      "cell_type": "markdown",
      "source": [
        "However, since each line seem to be a collection of web calls, we'd have to have an IP as \"Src of call\"..."
      ],
      "metadata": {
        "id": "0cq8KTDRBYID"
      }
    },
    {
      "cell_type": "markdown",
      "source": [
        "### Timestamp"
      ],
      "metadata": {
        "id": "IhSRognz7j56"
      }
    },
    {
      "cell_type": "markdown",
      "source": [
        "Studying timestamp"
      ],
      "metadata": {
        "id": "OfpswCRL7qMj"
      }
    },
    {
      "cell_type": "code",
      "source": [
        "df[\"Timestamp\"]"
      ],
      "metadata": {
        "colab": {
          "base_uri": "https://localhost:8080/"
        },
        "id": "rNvlcc377rqK",
        "outputId": "8b2ccb1e-654f-42d2-a4b3-2a66d6d5ae65"
      },
      "execution_count": 25,
      "outputs": [
        {
          "output_type": "execute_result",
          "data": {
            "text/plain": [
              "0          12/06/2010 08:34:32 AM\n",
              "1          12/06/2010 08:34:37 AM\n",
              "2          12/06/2010 08:35:28 AM\n",
              "3          12/06/2010 08:36:32 AM\n",
              "4          12/06/2010 08:36:33 AM\n",
              "                    ...          \n",
              "1279457       20/02/2018 09:29:04\n",
              "1279458       20/02/2018 10:16:43\n",
              "1279459       20/02/2018 12:57:36\n",
              "1279460       20/02/2018 08:44:31\n",
              "1279461       20/02/2018 12:43:11\n",
              "Name: Timestamp, Length: 1279462, dtype: object"
            ]
          },
          "metadata": {},
          "execution_count": 25
        }
      ]
    },
    {
      "cell_type": "code",
      "source": [
        "df[\"Timestamp\"].head()"
      ],
      "metadata": {
        "colab": {
          "base_uri": "https://localhost:8080/"
        },
        "id": "p4hEpwXy7wTr",
        "outputId": "94e6f0d8-1d67-4d35-ef75-e28c4f9d01d7"
      },
      "execution_count": 26,
      "outputs": [
        {
          "output_type": "execute_result",
          "data": {
            "text/plain": [
              "0    12/06/2010 08:34:32 AM\n",
              "1    12/06/2010 08:34:37 AM\n",
              "2    12/06/2010 08:35:28 AM\n",
              "3    12/06/2010 08:36:32 AM\n",
              "4    12/06/2010 08:36:33 AM\n",
              "Name: Timestamp, dtype: object"
            ]
          },
          "metadata": {},
          "execution_count": 26
        }
      ]
    },
    {
      "cell_type": "markdown",
      "source": [
        "Timestamp seems to be date and time of the event. Do we have to consider it, since the dates happen in different, future times?"
      ],
      "metadata": {
        "id": "kF-dB6lm73bC"
      }
    },
    {
      "cell_type": "markdown",
      "source": [
        "### Tot Fwd Pkts\n",
        "tot_fw_pk - Total packets in the forward direction"
      ],
      "metadata": {
        "id": "R_YWhonC8WRa"
      }
    },
    {
      "cell_type": "code",
      "source": [
        "df[\"Tot Fwd Pkts\"]"
      ],
      "metadata": {
        "colab": {
          "base_uri": "https://localhost:8080/"
        },
        "id": "idLW-bie8cET",
        "outputId": "6b109f70-b62d-4ceb-e4ea-fa4229656f58"
      },
      "execution_count": 27,
      "outputs": [
        {
          "output_type": "execute_result",
          "data": {
            "text/plain": [
              "0          29\n",
              "1           2\n",
              "2          47\n",
              "3           1\n",
              "4           1\n",
              "           ..\n",
              "1279457    13\n",
              "1279458     1\n",
              "1279459     1\n",
              "1279460     2\n",
              "1279461     1\n",
              "Name: Tot Fwd Pkts, Length: 1279462, dtype: int64"
            ]
          },
          "metadata": {},
          "execution_count": 27
        }
      ]
    },
    {
      "cell_type": "code",
      "source": [
        "df[\"Tot Fwd Pkts\"].head()"
      ],
      "metadata": {
        "colab": {
          "base_uri": "https://localhost:8080/"
        },
        "id": "kLKL7ORZ8hSz",
        "outputId": "8a9217b5-2598-4a64-8806-3101a808bbce"
      },
      "execution_count": 28,
      "outputs": [
        {
          "output_type": "execute_result",
          "data": {
            "text/plain": [
              "0    29\n",
              "1     2\n",
              "2    47\n",
              "3     1\n",
              "4     1\n",
              "Name: Tot Fwd Pkts, dtype: int64"
            ]
          },
          "metadata": {},
          "execution_count": 28
        }
      ]
    },
    {
      "cell_type": "markdown",
      "source": [
        "### Fwd Pkt Len"
      ],
      "metadata": {
        "id": "DQroyD5v9KPl"
      }
    },
    {
      "cell_type": "markdown",
      "source": [
        "- Fwd Pkt Len Max - fw_pkt_l_max - Maximum size of packet in forward direction\n",
        "- Fwd Pkt Len Min - fw_pkt_l_min - Minimum size of packet in forward direction\n",
        "- Fwd Pkt Len Mean - fw_pkt_l_avg - Average size of packet in forward direction\n",
        "- Fwd Pkt Len Std - fw_pkt_l_std - Standard deviation size of packet in forward direction"
      ],
      "metadata": {
        "id": "7GTWpeU09TNc"
      }
    },
    {
      "cell_type": "markdown",
      "source": [
        "These seem like they're mostly used for the size of the forwarding package."
      ],
      "metadata": {
        "id": "0KubNxQa9vT6"
      }
    },
    {
      "cell_type": "code",
      "source": [
        "df[\"Tot Fwd Pkts\"]"
      ],
      "metadata": {
        "colab": {
          "base_uri": "https://localhost:8080/"
        },
        "outputId": "5a57654c-1534-4d56-ce54-5aaa21dfa08d",
        "id": "yNgXkpp59KPm"
      },
      "execution_count": 29,
      "outputs": [
        {
          "output_type": "execute_result",
          "data": {
            "text/plain": [
              "0          29\n",
              "1           2\n",
              "2          47\n",
              "3           1\n",
              "4           1\n",
              "           ..\n",
              "1279457    13\n",
              "1279458     1\n",
              "1279459     1\n",
              "1279460     2\n",
              "1279461     1\n",
              "Name: Tot Fwd Pkts, Length: 1279462, dtype: int64"
            ]
          },
          "metadata": {},
          "execution_count": 29
        }
      ]
    },
    {
      "cell_type": "code",
      "source": [
        "df[\"Tot Fwd Pkts\"].head()"
      ],
      "metadata": {
        "colab": {
          "base_uri": "https://localhost:8080/"
        },
        "outputId": "f6d61e4a-d6f7-411a-a792-87e3245a0ca4",
        "id": "v7rl_53M9KPo"
      },
      "execution_count": 30,
      "outputs": [
        {
          "output_type": "execute_result",
          "data": {
            "text/plain": [
              "0    29\n",
              "1     2\n",
              "2    47\n",
              "3     1\n",
              "4     1\n",
              "Name: Tot Fwd Pkts, dtype: int64"
            ]
          },
          "metadata": {},
          "execution_count": 30
        }
      ]
    },
    {
      "cell_type": "markdown",
      "source": [
        "### Flow IAT"
      ],
      "metadata": {
        "id": "Krnye5wtBhoS"
      }
    },
    {
      "cell_type": "markdown",
      "source": [
        "- Flow IAT Mean - fl_iat_avg - Average time between two flows\n",
        "- Flow IAT Std - fl_iat_std - Standard deviation time two flows\n",
        "- Flow IAT Max - fl_iat_max - Maximum time between two flows\n",
        "- Flow IAT Min - fl_iat_min - Minimum time between two flows"
      ],
      "metadata": {
        "id": "WhLxTup0BhoU"
      }
    },
    {
      "cell_type": "markdown",
      "source": [
        "These seem like they're mostly used for flow time between two flows."
      ],
      "metadata": {
        "id": "vo5xkOOMBhoU"
      }
    },
    {
      "cell_type": "code",
      "source": [
        "df[\"Flow IAT Mean\"]"
      ],
      "metadata": {
        "colab": {
          "base_uri": "https://localhost:8080/"
        },
        "outputId": "f2ce0b39-968d-4c67-9ed9-c1f8beeca2a4",
        "id": "PgtxF5H9BhoU"
      },
      "execution_count": 31,
      "outputs": [
        {
          "output_type": "execute_result",
          "data": {
            "text/plain": [
              "0           55206.416667\n",
              "1           78104.833333\n",
              "2          187266.919355\n",
              "3             134.000000\n",
              "4              83.000000\n",
              "               ...      \n",
              "1279457    147428.250000\n",
              "1279458       313.000000\n",
              "1279459     12558.000000\n",
              "1279460       138.000000\n",
              "1279461       303.000000\n",
              "Name: Flow IAT Mean, Length: 1279462, dtype: float64"
            ]
          },
          "metadata": {},
          "execution_count": 31
        }
      ]
    },
    {
      "cell_type": "code",
      "source": [
        "df[\"Flow IAT Mean\"].head()"
      ],
      "metadata": {
        "colab": {
          "base_uri": "https://localhost:8080/"
        },
        "outputId": "04abb969-e625-4dbc-de87-98aea1fb8947",
        "id": "2ZXwnZr4BhoV"
      },
      "execution_count": 32,
      "outputs": [
        {
          "output_type": "execute_result",
          "data": {
            "text/plain": [
              "0     55206.416667\n",
              "1     78104.833333\n",
              "2    187266.919355\n",
              "3       134.000000\n",
              "4        83.000000\n",
              "Name: Flow IAT Mean, dtype: float64"
            ]
          },
          "metadata": {},
          "execution_count": 32
        }
      ]
    },
    {
      "cell_type": "code",
      "source": [
        "df[\"Flow IAT Std\"]"
      ],
      "metadata": {
        "colab": {
          "base_uri": "https://localhost:8080/"
        },
        "outputId": "de15c6c2-035e-45ff-b751-d58d21d98a36",
        "id": "XVjGec3mB_a8"
      },
      "execution_count": 33,
      "outputs": [
        {
          "output_type": "execute_result",
          "data": {
            "text/plain": [
              "0          1.954783e+05\n",
              "1          1.191181e+05\n",
              "2          1.400895e+06\n",
              "3          0.000000e+00\n",
              "4          0.000000e+00\n",
              "               ...     \n",
              "1279457    2.120287e+05\n",
              "1279458    0.000000e+00\n",
              "1279459    0.000000e+00\n",
              "1279460    0.000000e+00\n",
              "1279461    0.000000e+00\n",
              "Name: Flow IAT Std, Length: 1279462, dtype: float64"
            ]
          },
          "metadata": {},
          "execution_count": 33
        }
      ]
    },
    {
      "cell_type": "code",
      "source": [
        "df[\"Flow IAT Std\"].head()"
      ],
      "metadata": {
        "colab": {
          "base_uri": "https://localhost:8080/"
        },
        "outputId": "95463b67-7dc6-4caa-ec90-d004b62481ee",
        "id": "Hsqbk2HcB_a9"
      },
      "execution_count": 34,
      "outputs": [
        {
          "output_type": "execute_result",
          "data": {
            "text/plain": [
              "0    1.954783e+05\n",
              "1    1.191181e+05\n",
              "2    1.400895e+06\n",
              "3    0.000000e+00\n",
              "4    0.000000e+00\n",
              "Name: Flow IAT Std, dtype: float64"
            ]
          },
          "metadata": {},
          "execution_count": 34
        }
      ]
    },
    {
      "cell_type": "code",
      "source": [
        "df[\"Flow IAT Max\"]"
      ],
      "metadata": {
        "colab": {
          "base_uri": "https://localhost:8080/"
        },
        "outputId": "afc5cda8-9d5a-4fef-ad8b-a19989751333",
        "id": "CHNS5P0oC4tL"
      },
      "execution_count": 35,
      "outputs": [
        {
          "output_type": "execute_result",
          "data": {
            "text/plain": [
              "0           1566821.0\n",
              "1            235236.0\n",
              "2          15094326.0\n",
              "3               134.0\n",
              "4                83.0\n",
              "              ...    \n",
              "1279457      951550.0\n",
              "1279458         313.0\n",
              "1279459       12558.0\n",
              "1279460         138.0\n",
              "1279461         303.0\n",
              "Name: Flow IAT Max, Length: 1279462, dtype: float64"
            ]
          },
          "metadata": {},
          "execution_count": 35
        }
      ]
    },
    {
      "cell_type": "code",
      "source": [
        "df[\"Flow IAT Max\"].head()"
      ],
      "metadata": {
        "colab": {
          "base_uri": "https://localhost:8080/"
        },
        "outputId": "f91e8f7d-4ef8-46af-ee6d-129d18f17529",
        "id": "rK3WOVbFC4tM"
      },
      "execution_count": 36,
      "outputs": [
        {
          "output_type": "execute_result",
          "data": {
            "text/plain": [
              "0     1566821.0\n",
              "1      235236.0\n",
              "2    15094326.0\n",
              "3         134.0\n",
              "4          83.0\n",
              "Name: Flow IAT Max, dtype: float64"
            ]
          },
          "metadata": {},
          "execution_count": 36
        }
      ]
    },
    {
      "cell_type": "code",
      "source": [
        "df[\"Flow IAT Min\"]"
      ],
      "metadata": {
        "colab": {
          "base_uri": "https://localhost:8080/"
        },
        "outputId": "ca130ea1-5308-4ea5-f42b-bd9dce2d4e1f",
        "id": "YJYpMogiC4tN"
      },
      "execution_count": 37,
      "outputs": [
        {
          "output_type": "execute_result",
          "data": {
            "text/plain": [
              "0            167.0\n",
              "1              6.0\n",
              "2            155.0\n",
              "3            134.0\n",
              "4             83.0\n",
              "            ...   \n",
              "1279457       24.0\n",
              "1279458      313.0\n",
              "1279459    12558.0\n",
              "1279460      138.0\n",
              "1279461      303.0\n",
              "Name: Flow IAT Min, Length: 1279462, dtype: float64"
            ]
          },
          "metadata": {},
          "execution_count": 37
        }
      ]
    },
    {
      "cell_type": "code",
      "source": [
        "df[\"Flow IAT Min\"].head()"
      ],
      "metadata": {
        "colab": {
          "base_uri": "https://localhost:8080/"
        },
        "outputId": "2633256e-1d1e-4098-b67c-54f5ac079d86",
        "id": "rbXDvCb0C4tP"
      },
      "execution_count": 38,
      "outputs": [
        {
          "output_type": "execute_result",
          "data": {
            "text/plain": [
              "0    167.0\n",
              "1      6.0\n",
              "2    155.0\n",
              "3    134.0\n",
              "4     83.0\n",
              "Name: Flow IAT Min, dtype: float64"
            ]
          },
          "metadata": {},
          "execution_count": 38
        }
      ]
    },
    {
      "cell_type": "markdown",
      "source": [
        "### Fwd IAT"
      ],
      "metadata": {
        "id": "E19AmeVGD7f6"
      }
    },
    {
      "cell_type": "markdown",
      "source": [
        "- Fwd IAT Tot - fw_iat_tot - Total time between two packets sent in the forward direction\n",
        "- Fwd IAT Mean - fw_iat_avg - Mean time between two packets sent in the forward direction\n",
        "- Fwd IAT Std - fw_iat_std - Standard deviation time between two packets sent in the forward direction\n",
        "- Fwd IAT Max - fw_iat_max - Maximum time between two packets sent in the forward direction\n",
        "- Fwd IAT Min - fw_iat_min - Minimum time between two packets sent in the forward direction"
      ],
      "metadata": {
        "id": "r2CFZcQPD7f8"
      }
    },
    {
      "cell_type": "markdown",
      "source": [
        "These seem like they're mostly used for flow time between two flows."
      ],
      "metadata": {
        "id": "-wwIXMsxD7f8"
      }
    },
    {
      "cell_type": "code",
      "source": [
        "df[\"Fwd IAT Tot\"]"
      ],
      "metadata": {
        "colab": {
          "base_uri": "https://localhost:8080/"
        },
        "outputId": "3aa8239e-2f83-4222-d17e-2a4cf65e0339",
        "id": "YUJoqk-hD7f9"
      },
      "execution_count": 39,
      "outputs": [
        {
          "output_type": "execute_result",
          "data": {
            "text/plain": [
              "0          3735347.0\n",
              "1               92.0\n",
              "2          8018116.0\n",
              "3                0.0\n",
              "4                0.0\n",
              "             ...    \n",
              "1279457    2948565.0\n",
              "1279458          0.0\n",
              "1279459          0.0\n",
              "1279460        138.0\n",
              "1279461          0.0\n",
              "Name: Fwd IAT Tot, Length: 1279462, dtype: float64"
            ]
          },
          "metadata": {},
          "execution_count": 39
        }
      ]
    },
    {
      "cell_type": "code",
      "source": [
        "df[\"Fwd IAT Tot\"].head()"
      ],
      "metadata": {
        "colab": {
          "base_uri": "https://localhost:8080/"
        },
        "outputId": "f5791b92-d045-4068-8825-2bda2109c8d9",
        "id": "Jn4uL0ZFD7f-"
      },
      "execution_count": 40,
      "outputs": [
        {
          "output_type": "execute_result",
          "data": {
            "text/plain": [
              "0    3735347.0\n",
              "1         92.0\n",
              "2    8018116.0\n",
              "3          0.0\n",
              "4          0.0\n",
              "Name: Fwd IAT Tot, dtype: float64"
            ]
          },
          "metadata": {},
          "execution_count": 40
        }
      ]
    },
    {
      "cell_type": "code",
      "source": [
        "df[\"Fwd IAT Mean\"]"
      ],
      "metadata": {
        "colab": {
          "base_uri": "https://localhost:8080/"
        },
        "outputId": "d4a2d268-8722-4cf5-b7fc-3bf8eadfc4c3",
        "id": "ZJVN9Nd3FJEj"
      },
      "execution_count": 41,
      "outputs": [
        {
          "output_type": "execute_result",
          "data": {
            "text/plain": [
              "0          133405.250000\n",
              "1              92.000000\n",
              "2          174306.869565\n",
              "3               0.000000\n",
              "4               0.000000\n",
              "               ...      \n",
              "1279457    245713.750000\n",
              "1279458         0.000000\n",
              "1279459         0.000000\n",
              "1279460       138.000000\n",
              "1279461         0.000000\n",
              "Name: Fwd IAT Mean, Length: 1279462, dtype: float64"
            ]
          },
          "metadata": {},
          "execution_count": 41
        }
      ]
    },
    {
      "cell_type": "code",
      "source": [
        "df[\"Fwd IAT Mean\"].head()"
      ],
      "metadata": {
        "colab": {
          "base_uri": "https://localhost:8080/"
        },
        "outputId": "8d974627-6985-44e8-930d-bf9306583a08",
        "id": "7EuPRj_SFJEk"
      },
      "execution_count": 42,
      "outputs": [
        {
          "output_type": "execute_result",
          "data": {
            "text/plain": [
              "0    133405.250000\n",
              "1        92.000000\n",
              "2    174306.869565\n",
              "3         0.000000\n",
              "4         0.000000\n",
              "Name: Fwd IAT Mean, dtype: float64"
            ]
          },
          "metadata": {},
          "execution_count": 42
        }
      ]
    },
    {
      "cell_type": "code",
      "source": [
        "df[\"Fwd IAT Std\"]"
      ],
      "metadata": {
        "colab": {
          "base_uri": "https://localhost:8080/"
        },
        "outputId": "9baad24a-d0e8-414c-d907-8243be783c44",
        "id": "nZP8hqwaD7f_"
      },
      "execution_count": 43,
      "outputs": [
        {
          "output_type": "execute_result",
          "data": {
            "text/plain": [
              "0          341775.688712\n",
              "1               0.000000\n",
              "2          630711.570393\n",
              "3               0.000000\n",
              "4               0.000000\n",
              "               ...      \n",
              "1279457    342120.515596\n",
              "1279458         0.000000\n",
              "1279459         0.000000\n",
              "1279460         0.000000\n",
              "1279461         0.000000\n",
              "Name: Fwd IAT Std, Length: 1279462, dtype: float64"
            ]
          },
          "metadata": {},
          "execution_count": 43
        }
      ]
    },
    {
      "cell_type": "code",
      "source": [
        "df[\"Fwd IAT Std\"].head()"
      ],
      "metadata": {
        "colab": {
          "base_uri": "https://localhost:8080/"
        },
        "outputId": "d5a38779-828c-4264-d153-68a0373fe799",
        "id": "Z0qMQaCXD7gA"
      },
      "execution_count": 44,
      "outputs": [
        {
          "output_type": "execute_result",
          "data": {
            "text/plain": [
              "0    341775.688712\n",
              "1         0.000000\n",
              "2    630711.570393\n",
              "3         0.000000\n",
              "4         0.000000\n",
              "Name: Fwd IAT Std, dtype: float64"
            ]
          },
          "metadata": {},
          "execution_count": 44
        }
      ]
    },
    {
      "cell_type": "code",
      "source": [
        "df[\"Fwd IAT Max\"]"
      ],
      "metadata": {
        "colab": {
          "base_uri": "https://localhost:8080/"
        },
        "outputId": "72d20c70-7638-4262-d862-a364dcb44186",
        "id": "RSf7MKIwD7gB"
      },
      "execution_count": 45,
      "outputs": [
        {
          "output_type": "execute_result",
          "data": {
            "text/plain": [
              "0          1805015.0\n",
              "1               92.0\n",
              "2          3787574.0\n",
              "3                0.0\n",
              "4                0.0\n",
              "             ...    \n",
              "1279457    1312807.0\n",
              "1279458          0.0\n",
              "1279459          0.0\n",
              "1279460        138.0\n",
              "1279461          0.0\n",
              "Name: Fwd IAT Max, Length: 1279462, dtype: float64"
            ]
          },
          "metadata": {},
          "execution_count": 45
        }
      ]
    },
    {
      "cell_type": "code",
      "source": [
        "df[\"Fwd IAT Max\"].head()"
      ],
      "metadata": {
        "colab": {
          "base_uri": "https://localhost:8080/"
        },
        "outputId": "952c20e4-5deb-467f-f771-fc419e4da544",
        "id": "5Av9-p90D7gB"
      },
      "execution_count": 46,
      "outputs": [
        {
          "output_type": "execute_result",
          "data": {
            "text/plain": [
              "0    1805015.0\n",
              "1         92.0\n",
              "2    3787574.0\n",
              "3          0.0\n",
              "4          0.0\n",
              "Name: Fwd IAT Max, dtype: float64"
            ]
          },
          "metadata": {},
          "execution_count": 46
        }
      ]
    },
    {
      "cell_type": "code",
      "source": [
        "df[\"Fwd IAT Min\"]"
      ],
      "metadata": {
        "colab": {
          "base_uri": "https://localhost:8080/"
        },
        "outputId": "fda602c0-89a6-43cc-fe56-5afe7e57edfd",
        "id": "cEiyWf8-D7gC"
      },
      "execution_count": 47,
      "outputs": [
        {
          "output_type": "execute_result",
          "data": {
            "text/plain": [
              "0            167.0\n",
              "1             92.0\n",
              "2            155.0\n",
              "3              0.0\n",
              "4              0.0\n",
              "            ...   \n",
              "1279457    11928.0\n",
              "1279458        0.0\n",
              "1279459        0.0\n",
              "1279460      138.0\n",
              "1279461        0.0\n",
              "Name: Fwd IAT Min, Length: 1279462, dtype: float64"
            ]
          },
          "metadata": {},
          "execution_count": 47
        }
      ]
    },
    {
      "cell_type": "code",
      "source": [
        "df[\"Fwd IAT Min\"].head()"
      ],
      "metadata": {
        "colab": {
          "base_uri": "https://localhost:8080/"
        },
        "outputId": "a6d19aab-e1b5-4719-fb3e-b6407fc3e987",
        "id": "_OZs5yesD7gC"
      },
      "execution_count": 48,
      "outputs": [
        {
          "output_type": "execute_result",
          "data": {
            "text/plain": [
              "0    167.0\n",
              "1     92.0\n",
              "2    155.0\n",
              "3      0.0\n",
              "4      0.0\n",
              "Name: Fwd IAT Min, dtype: float64"
            ]
          },
          "metadata": {},
          "execution_count": 48
        }
      ]
    },
    {
      "cell_type": "markdown",
      "source": [
        "### Fwd Pkts/s\n",
        "\n",
        "fw_pkt_s - Number of forward packets per second"
      ],
      "metadata": {
        "id": "Nnt2N0L0Hl3a"
      }
    },
    {
      "cell_type": "code",
      "source": [
        "df[\"Fwd Pkts/s\"]"
      ],
      "metadata": {
        "colab": {
          "base_uri": "https://localhost:8080/"
        },
        "id": "SGF03L1gHonq",
        "outputId": "b09d9bb2-8ec3-4dec-9d2b-06088746d02c"
      },
      "execution_count": 49,
      "outputs": [
        {
          "output_type": "execute_result",
          "data": {
            "text/plain": [
              "0              7.295851\n",
              "1              4.267768\n",
              "2              2.024021\n",
              "3           7462.686567\n",
              "4          12048.192771\n",
              "               ...     \n",
              "1279457        4.408924\n",
              "1279458     3194.888179\n",
              "1279459       79.630514\n",
              "1279460    14492.753623\n",
              "1279461     3300.330033\n",
              "Name: Fwd Pkts/s, Length: 1279462, dtype: float64"
            ]
          },
          "metadata": {},
          "execution_count": 49
        }
      ]
    },
    {
      "cell_type": "code",
      "source": [
        "df[\"Fwd Pkts/s\"].head()"
      ],
      "metadata": {
        "outputId": "19ad33b7-c169-4879-eb37-4f8fe76e51d5",
        "colab": {
          "base_uri": "https://localhost:8080/"
        },
        "id": "0u225O_UHu37"
      },
      "execution_count": 50,
      "outputs": [
        {
          "output_type": "execute_result",
          "data": {
            "text/plain": [
              "0        7.295851\n",
              "1        4.267768\n",
              "2        2.024021\n",
              "3     7462.686567\n",
              "4    12048.192771\n",
              "Name: Fwd Pkts/s, dtype: float64"
            ]
          },
          "metadata": {},
          "execution_count": 50
        }
      ]
    },
    {
      "cell_type": "markdown",
      "source": [
        "### Pkt Len"
      ],
      "metadata": {
        "id": "Em-Yr4zMILVs"
      }
    },
    {
      "cell_type": "markdown",
      "source": [
        "- Pkt Len Mean - pkt_len_avg - Mean length of a flow\n",
        "- Pkt Len Std - pkt_len_std - Standard deviation length of a flow\n",
        "- Pkt Len Max - pkt_len_max - Maximum length of a flow\n",
        "- Pkt Len Min - pkt_len_min - Minimum length of a flow\n",
        "- Pkt Len Var - pkt_len_va - Minimum inter-arrival time of packet"
      ],
      "metadata": {
        "id": "ewbNSBCYILVs"
      }
    },
    {
      "cell_type": "markdown",
      "source": [
        "These seem like they're mostly used for flow length"
      ],
      "metadata": {
        "id": "J-6ffshvILVu"
      }
    },
    {
      "cell_type": "code",
      "source": [
        "df[\"Pkt Len Mean\"]"
      ],
      "metadata": {
        "colab": {
          "base_uri": "https://localhost:8080/"
        },
        "outputId": "8b5fcd6e-6ef4-43af-d335-d519e1b16f89",
        "id": "kCWhBDYJILVv"
      },
      "execution_count": 51,
      "outputs": [
        {
          "output_type": "execute_result",
          "data": {
            "text/plain": [
              "0          809.418919\n",
              "1           92.375000\n",
              "2          811.809524\n",
              "3            0.000000\n",
              "4            0.000000\n",
              "              ...    \n",
              "1279457    146.500000\n",
              "1279458     47.333333\n",
              "1279459     63.666667\n",
              "1279460      0.000000\n",
              "1279461     52.333333\n",
              "Name: Pkt Len Mean, Length: 1279462, dtype: float64"
            ]
          },
          "metadata": {},
          "execution_count": 51
        }
      ]
    },
    {
      "cell_type": "code",
      "source": [
        "df[\"Pkt Len Mean\"].head()"
      ],
      "metadata": {
        "colab": {
          "base_uri": "https://localhost:8080/"
        },
        "outputId": "1702706d-6002-4ee6-e3af-582fb886fdc8",
        "id": "n16IVSlUILVx"
      },
      "execution_count": 52,
      "outputs": [
        {
          "output_type": "execute_result",
          "data": {
            "text/plain": [
              "0    809.418919\n",
              "1     92.375000\n",
              "2    811.809524\n",
              "3      0.000000\n",
              "4      0.000000\n",
              "Name: Pkt Len Mean, dtype: float64"
            ]
          },
          "metadata": {},
          "execution_count": 52
        }
      ]
    },
    {
      "cell_type": "code",
      "source": [
        "df[\"Pkt Len Std\"]"
      ],
      "metadata": {
        "colab": {
          "base_uri": "https://localhost:8080/"
        },
        "outputId": "9c9a5e18-f272-475e-d0b4-7761fb48b41b",
        "id": "cX7YNMTEILVx"
      },
      "execution_count": 53,
      "outputs": [
        {
          "output_type": "execute_result",
          "data": {
            "text/plain": [
              "0          728.862428\n",
              "1          234.275746\n",
              "2          717.692443\n",
              "3            0.000000\n",
              "4            0.000000\n",
              "              ...    \n",
              "1279457    288.566036\n",
              "1279458      9.237604\n",
              "1279459     32.331615\n",
              "1279460      0.000000\n",
              "1279461      9.237604\n",
              "Name: Pkt Len Std, Length: 1279462, dtype: float64"
            ]
          },
          "metadata": {},
          "execution_count": 53
        }
      ]
    },
    {
      "cell_type": "code",
      "source": [
        "df[\"Pkt Len Std\"].head()"
      ],
      "metadata": {
        "colab": {
          "base_uri": "https://localhost:8080/"
        },
        "outputId": "be307a66-ba9a-4446-d9b1-4e1278be1c8f",
        "id": "IL4tjYYZILVx"
      },
      "execution_count": 54,
      "outputs": [
        {
          "output_type": "execute_result",
          "data": {
            "text/plain": [
              "0    728.862428\n",
              "1    234.275746\n",
              "2    717.692443\n",
              "3      0.000000\n",
              "4      0.000000\n",
              "Name: Pkt Len Std, dtype: float64"
            ]
          },
          "metadata": {},
          "execution_count": 54
        }
      ]
    },
    {
      "cell_type": "code",
      "source": [
        "df[\"Pkt Len Max\"]"
      ],
      "metadata": {
        "colab": {
          "base_uri": "https://localhost:8080/"
        },
        "outputId": "448e998a-8073-47de-9dbe-42dca6dba19f",
        "id": "0WU1gdpyILVy"
      },
      "execution_count": 55,
      "outputs": [
        {
          "output_type": "execute_result",
          "data": {
            "text/plain": [
              "0          1460.0\n",
              "1           669.0\n",
              "2          1460.0\n",
              "3             0.0\n",
              "4             0.0\n",
              "            ...  \n",
              "1279457    1179.0\n",
              "1279458      58.0\n",
              "1279459     101.0\n",
              "1279460       0.0\n",
              "1279461      63.0\n",
              "Name: Pkt Len Max, Length: 1279462, dtype: float64"
            ]
          },
          "metadata": {},
          "execution_count": 55
        }
      ]
    },
    {
      "cell_type": "code",
      "source": [
        "df[\"Pkt Len Max\"].head()"
      ],
      "metadata": {
        "colab": {
          "base_uri": "https://localhost:8080/"
        },
        "outputId": "5992c43c-dada-475e-f1ed-2b5521360fa1",
        "id": "34k8R0VPILVy"
      },
      "execution_count": 56,
      "outputs": [
        {
          "output_type": "execute_result",
          "data": {
            "text/plain": [
              "0    1460.0\n",
              "1     669.0\n",
              "2    1460.0\n",
              "3       0.0\n",
              "4       0.0\n",
              "Name: Pkt Len Max, dtype: float64"
            ]
          },
          "metadata": {},
          "execution_count": 56
        }
      ]
    },
    {
      "cell_type": "code",
      "source": [
        "df[\"Pkt Len Min\"]"
      ],
      "metadata": {
        "colab": {
          "base_uri": "https://localhost:8080/"
        },
        "outputId": "5e75422d-73ef-4828-899c-cf8f55daca49",
        "id": "94vJRo5uILVz"
      },
      "execution_count": 57,
      "outputs": [
        {
          "output_type": "execute_result",
          "data": {
            "text/plain": [
              "0           0.0\n",
              "1           0.0\n",
              "2           0.0\n",
              "3           0.0\n",
              "4           0.0\n",
              "           ... \n",
              "1279457     0.0\n",
              "1279458    42.0\n",
              "1279459    45.0\n",
              "1279460     0.0\n",
              "1279461    47.0\n",
              "Name: Pkt Len Min, Length: 1279462, dtype: float64"
            ]
          },
          "metadata": {},
          "execution_count": 57
        }
      ]
    },
    {
      "cell_type": "code",
      "source": [
        "df[\"Pkt Len Min\"].head()"
      ],
      "metadata": {
        "colab": {
          "base_uri": "https://localhost:8080/"
        },
        "outputId": "a9dbfb42-0308-4c9a-881c-83fe174d6722",
        "id": "60Zcgdw3ILVz"
      },
      "execution_count": 58,
      "outputs": [
        {
          "output_type": "execute_result",
          "data": {
            "text/plain": [
              "0    0.0\n",
              "1    0.0\n",
              "2    0.0\n",
              "3    0.0\n",
              "4    0.0\n",
              "Name: Pkt Len Min, dtype: float64"
            ]
          },
          "metadata": {},
          "execution_count": 58
        }
      ]
    },
    {
      "cell_type": "markdown",
      "source": [
        "### Flag Count"
      ],
      "metadata": {
        "id": "uLiprrNAKL77"
      }
    },
    {
      "cell_type": "markdown",
      "source": [
        "- SYN Flag Cnt - syn_cnt - Number of packets with SYN\n",
        "- RST Flag Cnt - rst_cnt - Number of packets with RST\n",
        "- PSH Flag Cnt - pst_cnt - Number of packets with PUSH\n",
        "- ACK Flag Cnt - ack_cnt - Number of packets with ACK\n",
        "- CWE Flag Count - cwe_cnt - Number of packets with CWE\n",
        "- ECE Flag Cnt - ece_cnt - Number of packets with ECE"
      ],
      "metadata": {
        "id": "0BXBu49lKL77"
      }
    },
    {
      "cell_type": "markdown",
      "source": [
        "Counting the amount of flags per package in an entry."
      ],
      "metadata": {
        "id": "ePbdW-C2KL78"
      }
    },
    {
      "cell_type": "code",
      "source": [
        "df[\"SYN Flag Cnt\"]"
      ],
      "metadata": {
        "colab": {
          "base_uri": "https://localhost:8080/"
        },
        "outputId": "5f769212-7d3f-4589-c33c-4ba424ef652b",
        "id": "-hbg0KMxKL79"
      },
      "execution_count": 59,
      "outputs": [
        {
          "output_type": "execute_result",
          "data": {
            "text/plain": [
              "0          1\n",
              "1          1\n",
              "2          1\n",
              "3          0\n",
              "4          0\n",
              "          ..\n",
              "1279457    0\n",
              "1279458    0\n",
              "1279459    0\n",
              "1279460    0\n",
              "1279461    0\n",
              "Name: SYN Flag Cnt, Length: 1279462, dtype: int64"
            ]
          },
          "metadata": {},
          "execution_count": 59
        }
      ]
    },
    {
      "cell_type": "code",
      "source": [
        "df[\"SYN Flag Cnt\"].head()"
      ],
      "metadata": {
        "colab": {
          "base_uri": "https://localhost:8080/"
        },
        "outputId": "c6809a6b-9471-4ca7-c402-e52cbe053518",
        "id": "FCuLoddQKL7-"
      },
      "execution_count": 60,
      "outputs": [
        {
          "output_type": "execute_result",
          "data": {
            "text/plain": [
              "0    1\n",
              "1    1\n",
              "2    1\n",
              "3    0\n",
              "4    0\n",
              "Name: SYN Flag Cnt, dtype: int64"
            ]
          },
          "metadata": {},
          "execution_count": 60
        }
      ]
    },
    {
      "cell_type": "code",
      "source": [
        "df[\"SYN Flag Cnt\"].sum()"
      ],
      "metadata": {
        "colab": {
          "base_uri": "https://localhost:8080/"
        },
        "outputId": "f4eb9a54-b13e-4255-e2d0-965e948d9056",
        "id": "B0Bwp5NWLUCL"
      },
      "execution_count": 61,
      "outputs": [
        {
          "output_type": "execute_result",
          "data": {
            "text/plain": [
              "172741"
            ]
          },
          "metadata": {},
          "execution_count": 61
        }
      ]
    },
    {
      "cell_type": "code",
      "source": [
        "df[\"RST Flag Cnt\"]"
      ],
      "metadata": {
        "colab": {
          "base_uri": "https://localhost:8080/"
        },
        "outputId": "cb904ba9-bf92-4b07-f54f-1c7687be7689",
        "id": "P_9bWsI_K6RU"
      },
      "execution_count": 62,
      "outputs": [
        {
          "output_type": "execute_result",
          "data": {
            "text/plain": [
              "0          0\n",
              "1          0\n",
              "2          0\n",
              "3          0\n",
              "4          0\n",
              "          ..\n",
              "1279457    1\n",
              "1279458    0\n",
              "1279459    0\n",
              "1279460    0\n",
              "1279461    0\n",
              "Name: RST Flag Cnt, Length: 1279462, dtype: int64"
            ]
          },
          "metadata": {},
          "execution_count": 62
        }
      ]
    },
    {
      "cell_type": "code",
      "source": [
        "df[\"RST Flag Cnt\"].head()"
      ],
      "metadata": {
        "colab": {
          "base_uri": "https://localhost:8080/"
        },
        "outputId": "5262b489-d76e-42a8-caec-075babc76556",
        "id": "mIbOibMeK6RV"
      },
      "execution_count": 63,
      "outputs": [
        {
          "output_type": "execute_result",
          "data": {
            "text/plain": [
              "0    0\n",
              "1    0\n",
              "2    0\n",
              "3    0\n",
              "4    0\n",
              "Name: RST Flag Cnt, dtype: int64"
            ]
          },
          "metadata": {},
          "execution_count": 63
        }
      ]
    },
    {
      "cell_type": "code",
      "source": [
        "df[\"RST Flag Cnt\"].sum()"
      ],
      "metadata": {
        "colab": {
          "base_uri": "https://localhost:8080/"
        },
        "outputId": "b20b38ee-58e3-4f86-ac87-02dfa7f4fab9",
        "id": "EUo2y4a4Lxf7"
      },
      "execution_count": 64,
      "outputs": [
        {
          "output_type": "execute_result",
          "data": {
            "text/plain": [
              "141770"
            ]
          },
          "metadata": {},
          "execution_count": 64
        }
      ]
    },
    {
      "cell_type": "code",
      "source": [
        "df[\"PSH Flag Cnt\"]"
      ],
      "metadata": {
        "colab": {
          "base_uri": "https://localhost:8080/"
        },
        "outputId": "f67aabea-5d60-495e-9f53-ad0205c3db1e",
        "id": "VhKVZErhK6a8"
      },
      "execution_count": 65,
      "outputs": [
        {
          "output_type": "execute_result",
          "data": {
            "text/plain": [
              "0          0\n",
              "1          0\n",
              "2          0\n",
              "3          0\n",
              "4          0\n",
              "          ..\n",
              "1279457    1\n",
              "1279458    0\n",
              "1279459    0\n",
              "1279460    0\n",
              "1279461    0\n",
              "Name: PSH Flag Cnt, Length: 1279462, dtype: int64"
            ]
          },
          "metadata": {},
          "execution_count": 65
        }
      ]
    },
    {
      "cell_type": "code",
      "source": [
        "df[\"PSH Flag Cnt\"].head()"
      ],
      "metadata": {
        "colab": {
          "base_uri": "https://localhost:8080/"
        },
        "outputId": "8d4000e8-5313-4dee-f3b2-751c8ca264e9",
        "id": "Ne72GibsK6a8"
      },
      "execution_count": 66,
      "outputs": [
        {
          "output_type": "execute_result",
          "data": {
            "text/plain": [
              "0    0\n",
              "1    0\n",
              "2    0\n",
              "3    0\n",
              "4    0\n",
              "Name: PSH Flag Cnt, dtype: int64"
            ]
          },
          "metadata": {},
          "execution_count": 66
        }
      ]
    },
    {
      "cell_type": "code",
      "source": [
        "df[\"PSH Flag Cnt\"].sum()"
      ],
      "metadata": {
        "colab": {
          "base_uri": "https://localhost:8080/"
        },
        "outputId": "60adbcdb-e6d5-4cb3-86fc-0e617faf2a1d",
        "id": "AtMuOI69Lz12"
      },
      "execution_count": 67,
      "outputs": [
        {
          "output_type": "execute_result",
          "data": {
            "text/plain": [
              "256815"
            ]
          },
          "metadata": {},
          "execution_count": 67
        }
      ]
    },
    {
      "cell_type": "code",
      "source": [
        "df[\"ACK Flag Cnt\"]"
      ],
      "metadata": {
        "colab": {
          "base_uri": "https://localhost:8080/"
        },
        "outputId": "e4f0a53b-9357-48b9-cd75-964d7ec4bf68",
        "id": "TOnEeY2wK6jT"
      },
      "execution_count": 68,
      "outputs": [
        {
          "output_type": "execute_result",
          "data": {
            "text/plain": [
              "0          0\n",
              "1          0\n",
              "2          0\n",
              "3          1\n",
              "4          1\n",
              "          ..\n",
              "1279457    0\n",
              "1279458    0\n",
              "1279459    0\n",
              "1279460    1\n",
              "1279461    0\n",
              "Name: ACK Flag Cnt, Length: 1279462, dtype: int64"
            ]
          },
          "metadata": {},
          "execution_count": 68
        }
      ]
    },
    {
      "cell_type": "code",
      "source": [
        "df[\"ACK Flag Cnt\"].head()"
      ],
      "metadata": {
        "colab": {
          "base_uri": "https://localhost:8080/"
        },
        "outputId": "07263b9e-d4f4-4682-a56f-6ab9cb3dde0a",
        "id": "rk_ovQwGK6jU"
      },
      "execution_count": 69,
      "outputs": [
        {
          "output_type": "execute_result",
          "data": {
            "text/plain": [
              "0    0\n",
              "1    0\n",
              "2    0\n",
              "3    1\n",
              "4    1\n",
              "Name: ACK Flag Cnt, dtype: int64"
            ]
          },
          "metadata": {},
          "execution_count": 69
        }
      ]
    },
    {
      "cell_type": "code",
      "source": [
        "df[\"ACK Flag Cnt\"].sum()"
      ],
      "metadata": {
        "colab": {
          "base_uri": "https://localhost:8080/"
        },
        "outputId": "c01fb887-33b9-4b5f-8292-d44e853dd556",
        "id": "saryo5icL1tb"
      },
      "execution_count": 70,
      "outputs": [
        {
          "output_type": "execute_result",
          "data": {
            "text/plain": [
              "655015"
            ]
          },
          "metadata": {},
          "execution_count": 70
        }
      ]
    },
    {
      "cell_type": "code",
      "source": [
        "df[\"CWE Flag Count\"]"
      ],
      "metadata": {
        "colab": {
          "base_uri": "https://localhost:8080/"
        },
        "outputId": "cbc90b71-f899-4e7d-e9d0-c5f57d36d213",
        "id": "acl1PDbnK6t6"
      },
      "execution_count": 71,
      "outputs": [
        {
          "output_type": "execute_result",
          "data": {
            "text/plain": [
              "0          0\n",
              "1          0\n",
              "2          0\n",
              "3          0\n",
              "4          0\n",
              "          ..\n",
              "1279457    0\n",
              "1279458    0\n",
              "1279459    0\n",
              "1279460    0\n",
              "1279461    0\n",
              "Name: CWE Flag Count, Length: 1279462, dtype: int64"
            ]
          },
          "metadata": {},
          "execution_count": 71
        }
      ]
    },
    {
      "cell_type": "code",
      "source": [
        "df[\"CWE Flag Count\"].head()"
      ],
      "metadata": {
        "colab": {
          "base_uri": "https://localhost:8080/"
        },
        "outputId": "88b8a620-9e80-41e5-a7ae-7fe6df976cd0",
        "id": "mIpo28GoK6t7"
      },
      "execution_count": 72,
      "outputs": [
        {
          "output_type": "execute_result",
          "data": {
            "text/plain": [
              "0    0\n",
              "1    0\n",
              "2    0\n",
              "3    0\n",
              "4    0\n",
              "Name: CWE Flag Count, dtype: int64"
            ]
          },
          "metadata": {},
          "execution_count": 72
        }
      ]
    },
    {
      "cell_type": "code",
      "source": [
        "df[\"CWE Flag Count\"].sum()"
      ],
      "metadata": {
        "colab": {
          "base_uri": "https://localhost:8080/"
        },
        "outputId": "21e356cc-d595-4d0e-e935-cde60e3efef8",
        "id": "Nle1wDP3L2uj"
      },
      "execution_count": 73,
      "outputs": [
        {
          "output_type": "execute_result",
          "data": {
            "text/plain": [
              "107361"
            ]
          },
          "metadata": {},
          "execution_count": 73
        }
      ]
    },
    {
      "cell_type": "code",
      "source": [
        "df[\"ECE Flag Cnt\"]"
      ],
      "metadata": {
        "colab": {
          "base_uri": "https://localhost:8080/"
        },
        "outputId": "86722a4e-4f90-4722-e6d3-1a416cc27ee5",
        "id": "hoTMrSKSK62T"
      },
      "execution_count": 74,
      "outputs": [
        {
          "output_type": "execute_result",
          "data": {
            "text/plain": [
              "0          0\n",
              "1          0\n",
              "2          0\n",
              "3          0\n",
              "4          0\n",
              "          ..\n",
              "1279457    1\n",
              "1279458    0\n",
              "1279459    0\n",
              "1279460    0\n",
              "1279461    0\n",
              "Name: ECE Flag Cnt, Length: 1279462, dtype: int64"
            ]
          },
          "metadata": {},
          "execution_count": 74
        }
      ]
    },
    {
      "cell_type": "code",
      "source": [
        "df[\"ECE Flag Cnt\"].head()"
      ],
      "metadata": {
        "colab": {
          "base_uri": "https://localhost:8080/"
        },
        "outputId": "b29cfb73-665f-492e-bf1a-76b6cd448686",
        "id": "6krBIljDK62U"
      },
      "execution_count": 75,
      "outputs": [
        {
          "output_type": "execute_result",
          "data": {
            "text/plain": [
              "0    0\n",
              "1    0\n",
              "2    0\n",
              "3    0\n",
              "4    0\n",
              "Name: ECE Flag Cnt, dtype: int64"
            ]
          },
          "metadata": {},
          "execution_count": 75
        }
      ]
    },
    {
      "cell_type": "code",
      "source": [
        "df[\"ECE Flag Cnt\"].sum()"
      ],
      "metadata": {
        "colab": {
          "base_uri": "https://localhost:8080/"
        },
        "outputId": "ce6d79e8-e4ef-4488-afb4-678e4ba67161",
        "id": "L_div31uL35M"
      },
      "execution_count": 76,
      "outputs": [
        {
          "output_type": "execute_result",
          "data": {
            "text/plain": [
              "247798"
            ]
          },
          "metadata": {},
          "execution_count": 76
        }
      ]
    },
    {
      "cell_type": "markdown",
      "source": [
        "### Down/Up Ratio\n",
        "\n",
        "down_up_ratio - Download and upload ratio"
      ],
      "metadata": {
        "id": "eeTNVUEgOcLE"
      }
    },
    {
      "cell_type": "code",
      "source": [
        "df[\"Down/Up Ratio\"]"
      ],
      "metadata": {
        "colab": {
          "base_uri": "https://localhost:8080/"
        },
        "outputId": "21a4276d-cfe4-4dfb-b565-762d45dd7d7b",
        "id": "cEf7C4Q2OcLF"
      },
      "execution_count": 77,
      "outputs": [
        {
          "output_type": "execute_result",
          "data": {
            "text/plain": [
              "0          1.0\n",
              "1          2.0\n",
              "2          1.0\n",
              "3          1.0\n",
              "4          1.0\n",
              "          ... \n",
              "1279457    0.0\n",
              "1279458    1.0\n",
              "1279459    1.0\n",
              "1279460    0.0\n",
              "1279461    1.0\n",
              "Name: Down/Up Ratio, Length: 1279462, dtype: float64"
            ]
          },
          "metadata": {},
          "execution_count": 77
        }
      ]
    },
    {
      "cell_type": "code",
      "source": [
        "df[\"Down/Up Ratio\"].head()"
      ],
      "metadata": {
        "outputId": "947465c7-ea21-4086-a787-19520bf7c23b",
        "colab": {
          "base_uri": "https://localhost:8080/"
        },
        "id": "b-bOrlwoOcLG"
      },
      "execution_count": 78,
      "outputs": [
        {
          "output_type": "execute_result",
          "data": {
            "text/plain": [
              "0    1.0\n",
              "1    2.0\n",
              "2    1.0\n",
              "3    1.0\n",
              "4    1.0\n",
              "Name: Down/Up Ratio, dtype: float64"
            ]
          },
          "metadata": {},
          "execution_count": 78
        }
      ]
    },
    {
      "cell_type": "markdown",
      "source": [
        "### Label\n",
        "\n",
        "This is our Y variable. DDoS or not."
      ],
      "metadata": {
        "id": "3VgN2w1uP7nT"
      }
    },
    {
      "cell_type": "code",
      "source": [
        "df[\"Label\"]"
      ],
      "metadata": {
        "colab": {
          "base_uri": "https://localhost:8080/"
        },
        "outputId": "69efa325-dfe2-40ce-dd3e-c2af09c29a26",
        "id": "r1NuxWcRP7nU"
      },
      "execution_count": 79,
      "outputs": [
        {
          "output_type": "execute_result",
          "data": {
            "text/plain": [
              "0            ddos\n",
              "1            ddos\n",
              "2            ddos\n",
              "3            ddos\n",
              "4            ddos\n",
              "            ...  \n",
              "1279457    Benign\n",
              "1279458    Benign\n",
              "1279459    Benign\n",
              "1279460    Benign\n",
              "1279461    Benign\n",
              "Name: Label, Length: 1279462, dtype: object"
            ]
          },
          "metadata": {},
          "execution_count": 79
        }
      ]
    },
    {
      "cell_type": "code",
      "source": [
        "df.Label.value_counts()"
      ],
      "metadata": {
        "outputId": "8de33741-7917-498f-ae31-10107f8d1508",
        "colab": {
          "base_uri": "https://localhost:8080/"
        },
        "id": "bIpiiFF_P7nV"
      },
      "execution_count": 80,
      "outputs": [
        {
          "output_type": "execute_result",
          "data": {
            "text/plain": [
              "ddos      647470\n",
              "Benign    631992\n",
              "Name: Label, dtype: int64"
            ]
          },
          "metadata": {},
          "execution_count": 80
        }
      ]
    },
    {
      "cell_type": "markdown",
      "source": [
        "Binary result. Either it is a ddos attack (ddos) or it isn't (Benign).\n",
        "We could overwrite them and say that Benign is 0, ddos is 1, making the AI a binary classification type"
      ],
      "metadata": {
        "id": "BQ5ZTkZ8R0VD"
      }
    },
    {
      "cell_type": "markdown",
      "source": [
        "## Variables - Suggestions"
      ],
      "metadata": {
        "id": "Pya8sjbb8RVp"
      }
    },
    {
      "cell_type": "markdown",
      "source": [
        "- Required.:\n",
        "\n",
        "Label (output)\n",
        "\n",
        "- To include.:\n",
        "\n",
        "Fwd pkts, Flow IAT, Fwd Pkts/s, Flag counts,\n"
      ],
      "metadata": {
        "id": "2-NzgZ4ZRarL"
      }
    },
    {
      "cell_type": "markdown",
      "source": [
        "Suggestion.:\n",
        "- Exclude \"IP\"\n",
        "- Include \"Ports\"\n",
        "- Exclude \"Timestamp\"\n",
        "- Include \"Tot Fwd Pkts\"\n",
        "- Include \"Fwd Pkt Len Max\"\n",
        "- Include \"Fwd Pkt Len Min\"\n",
        "- Include \"Fwd Pkt Len Mean\"\n",
        "- Include \"Fwd Pkt Len Std\"\n",
        "- Exclude \"Bwd Pkt Len Min\"\n",
        "- Include \"Flow IAT Mean\"\n",
        "- Include \"Flow IAT Std\" \n",
        "- Include \"Flow IAT Max\" \n",
        "- Include \"Flow IAT Min\" \n",
        "- Exclude \"Fwd Header Len\"\n",
        "- Include \"Fwd Pkts/s\"\n",
        "- Exclude \"Pkt Len Min\"\n",
        "- Exclude \"Pkt Len Max\"\n",
        "- Exclude \"Pkt Len Mean\"\n",
        "- Exclude \"Pkt Len Std\"\n",
        "- Exclude \"Pkt Len Var\"\n",
        "- Include \"SYN Flag Cnt\"\n",
        "- Include \"RST Flag Cnt\"\n",
        "- Include \"PSH Flag Cnt\"\n",
        "- Include \"ACK Flag Cnt\"\n",
        "- Include \"CWE Flag Count\"\n",
        "- Include \"ECE Flag Cnt\"\n",
        "- Exclude \"Down/Up Ratio\"\n",
        "- Exclude \"Pkt Size Avg\"\n",
        "- Exclude \"Fwd Seg Size Avg\"\n",
        "- Exclude \"Subflow Fwd Pkts\"\n",
        "- Exclude \"Subflow Fwd Byts\"\n",
        "- Exclude \"Init Fwd Win Byts\"\n",
        "- Exclude \"Fwd Act Data Pkts\"\n",
        "- Exclude \"Fwd Seg Size Min\"\n",
        "- Exclude \"Active Mean\"\n",
        "- Exclude \"Active Std\"\n",
        "- Exclude \"Active Max\"\n",
        "- Exclude \"Active Min\"\n",
        "- Exclude \"Idle Mean\"\n",
        "- Exclude \"Idle Std\"\n",
        "- Exclude \"Idle Max\"\n",
        "- Exclude \"Idle Min\"\n",
        "- Include \"Label\"\n",
        "\n",
        "\n",
        "Thoughts?"
      ],
      "metadata": {
        "id": "92BX7hB07eIK"
      }
    },
    {
      "cell_type": "markdown",
      "source": [
        "## Treating data"
      ],
      "metadata": {
        "id": "_xrC4QU96Hxc"
      }
    },
    {
      "cell_type": "markdown",
      "source": [
        "First, removing the extra columns"
      ],
      "metadata": {
        "id": "-eTd_jIc6dBu"
      }
    },
    {
      "cell_type": "code",
      "source": [
        "to_remove = [\n",
        "  \"Unnamed: 0\",\n",
        "  \"Src IP\", \n",
        "  #\"Src Port\",\n",
        "  \"Dst IP\", \n",
        "  #\"Dst Port\",\n",
        "  \"Timestamp\",\n",
        "  \"Bwd Pkt Len Min\",\n",
        "  \"Fwd Header Len\",\n",
        "  \"Pkt Len Min\",\n",
        "  \"Pkt Len Max\",\n",
        "  \"Pkt Len Mean\",\n",
        "  \"Pkt Len Std\",\n",
        "  \"Pkt Len Var\",\n",
        "  \"Down/Up Ratio\",\n",
        "  \"Pkt Size Avg\",\n",
        "  \"Fwd Seg Size Avg\",\n",
        "  \"Subflow Fwd Pkts\",\n",
        "  \"Subflow Fwd Byts\",\n",
        "  \"Init Fwd Win Byts\",\n",
        "  \"Fwd Act Data Pkts\",\n",
        "  \"Fwd Seg Size Min\",\n",
        "  \"Active Mean\",\n",
        "  \"Active Std\",\n",
        "  \"Active Max\",\n",
        "  \"Active Min\",\n",
        "  \"Idle Mean\",\n",
        "  \"Idle Std\",\n",
        "  \"Idle Max\",\n",
        "  \"Idle Min\",\n",
        "]"
      ],
      "metadata": {
        "id": "9pr0cBJt6MNE"
      },
      "execution_count": 81,
      "outputs": []
    },
    {
      "cell_type": "code",
      "source": [
        "df = df.drop(columns=to_remove)"
      ],
      "metadata": {
        "id": "rA-Itzcb6x40"
      },
      "execution_count": 82,
      "outputs": []
    },
    {
      "cell_type": "markdown",
      "source": [
        "Removing white space and \"/\""
      ],
      "metadata": {
        "id": "vxsx0cMkjtyz"
      }
    },
    {
      "cell_type": "code",
      "source": [
        "df.columns = df.columns.str.replace(' ', '')\n",
        "df.columns = df.columns.str.replace('/', '')"
      ],
      "metadata": {
        "id": "O5AI7_z4jwhz"
      },
      "execution_count": 83,
      "outputs": []
    },
    {
      "cell_type": "markdown",
      "source": [
        "Confirming"
      ],
      "metadata": {
        "id": "s4FvYRK6kQ_T"
      }
    },
    {
      "cell_type": "code",
      "source": [
        "df.columns"
      ],
      "metadata": {
        "colab": {
          "base_uri": "https://localhost:8080/"
        },
        "id": "Lup5rbDAkSUK",
        "outputId": "39938070-ce52-4627-9bf4-a2da8d383b64"
      },
      "execution_count": 84,
      "outputs": [
        {
          "output_type": "execute_result",
          "data": {
            "text/plain": [
              "Index(['SrcPort', 'DstPort', 'TotFwdPkts', 'FwdPktLenMax', 'FwdPktLenMin',\n",
              "       'FwdPktLenMean', 'FwdPktLenStd', 'FlowIATMean', 'FlowIATStd',\n",
              "       'FlowIATMax', 'FlowIATMin', 'FwdIATTot', 'FwdIATMean', 'FwdIATStd',\n",
              "       'FwdIATMax', 'FwdIATMin', 'FwdPktss', 'SYNFlagCnt', 'RSTFlagCnt',\n",
              "       'PSHFlagCnt', 'ACKFlagCnt', 'CWEFlagCount', 'ECEFlagCnt', 'Label'],\n",
              "      dtype='object')"
            ]
          },
          "metadata": {},
          "execution_count": 84
        }
      ]
    },
    {
      "cell_type": "markdown",
      "source": [
        "Splitting into X & Y"
      ],
      "metadata": {
        "id": "oWSfJ9RC9-X8"
      }
    },
    {
      "cell_type": "code",
      "source": [
        "X = df\n",
        "y = df.pop('Label').map({'Benign': 0, 'ddos': 1})"
      ],
      "metadata": {
        "id": "M5EfKVot2_lu"
      },
      "execution_count": 85,
      "outputs": []
    },
    {
      "cell_type": "code",
      "source": [
        "X.head(5)"
      ],
      "metadata": {
        "colab": {
          "base_uri": "https://localhost:8080/",
          "height": 300
        },
        "id": "Opuyj6kgbPs9",
        "outputId": "7aa0a49a-998a-4233-d73d-6990890885e0"
      },
      "execution_count": 86,
      "outputs": [
        {
          "output_type": "execute_result",
          "data": {
            "text/plain": [
              "   SrcPort  DstPort  TotFwdPkts  FwdPktLenMax  FwdPktLenMin  FwdPktLenMean  \\\n",
              "0     4504       80          29          86.0           0.0       2.965517   \n",
              "1     4508       80           2          70.0           0.0      35.000000   \n",
              "2     1725       80          47         110.0           0.0       6.170213   \n",
              "3     4521       80           1           0.0           0.0       0.000000   \n",
              "4     4522       80           1           0.0           0.0       0.000000   \n",
              "\n",
              "   FwdPktLenStd    FlowIATMean    FlowIATStd  FlowIATMax  ...      FwdIATStd  \\\n",
              "0     15.969799   55206.416667  1.954783e+05   1566821.0  ...  341775.688712   \n",
              "1     49.497475   78104.833333  1.191181e+05    235236.0  ...       0.000000   \n",
              "2     24.136675  187266.919355  1.400895e+06  15094326.0  ...  630711.570393   \n",
              "3      0.000000     134.000000  0.000000e+00       134.0  ...       0.000000   \n",
              "4      0.000000      83.000000  0.000000e+00        83.0  ...       0.000000   \n",
              "\n",
              "   FwdIATMax  FwdIATMin      FwdPktss  SYNFlagCnt  RSTFlagCnt  PSHFlagCnt  \\\n",
              "0  1805015.0      167.0      7.295851           1           0           0   \n",
              "1       92.0       92.0      4.267768           1           0           0   \n",
              "2  3787574.0      155.0      2.024021           1           0           0   \n",
              "3        0.0        0.0   7462.686567           0           0           0   \n",
              "4        0.0        0.0  12048.192771           0           0           0   \n",
              "\n",
              "   ACKFlagCnt  CWEFlagCount  ECEFlagCnt  \n",
              "0           0             0           0  \n",
              "1           0             0           0  \n",
              "2           0             0           0  \n",
              "3           1             0           0  \n",
              "4           1             0           0  \n",
              "\n",
              "[5 rows x 23 columns]"
            ],
            "text/html": [
              "\n",
              "  <div id=\"df-abe86097-1a3f-4c1a-abeb-6f646ba8f809\">\n",
              "    <div class=\"colab-df-container\">\n",
              "      <div>\n",
              "<style scoped>\n",
              "    .dataframe tbody tr th:only-of-type {\n",
              "        vertical-align: middle;\n",
              "    }\n",
              "\n",
              "    .dataframe tbody tr th {\n",
              "        vertical-align: top;\n",
              "    }\n",
              "\n",
              "    .dataframe thead th {\n",
              "        text-align: right;\n",
              "    }\n",
              "</style>\n",
              "<table border=\"1\" class=\"dataframe\">\n",
              "  <thead>\n",
              "    <tr style=\"text-align: right;\">\n",
              "      <th></th>\n",
              "      <th>SrcPort</th>\n",
              "      <th>DstPort</th>\n",
              "      <th>TotFwdPkts</th>\n",
              "      <th>FwdPktLenMax</th>\n",
              "      <th>FwdPktLenMin</th>\n",
              "      <th>FwdPktLenMean</th>\n",
              "      <th>FwdPktLenStd</th>\n",
              "      <th>FlowIATMean</th>\n",
              "      <th>FlowIATStd</th>\n",
              "      <th>FlowIATMax</th>\n",
              "      <th>...</th>\n",
              "      <th>FwdIATStd</th>\n",
              "      <th>FwdIATMax</th>\n",
              "      <th>FwdIATMin</th>\n",
              "      <th>FwdPktss</th>\n",
              "      <th>SYNFlagCnt</th>\n",
              "      <th>RSTFlagCnt</th>\n",
              "      <th>PSHFlagCnt</th>\n",
              "      <th>ACKFlagCnt</th>\n",
              "      <th>CWEFlagCount</th>\n",
              "      <th>ECEFlagCnt</th>\n",
              "    </tr>\n",
              "  </thead>\n",
              "  <tbody>\n",
              "    <tr>\n",
              "      <th>0</th>\n",
              "      <td>4504</td>\n",
              "      <td>80</td>\n",
              "      <td>29</td>\n",
              "      <td>86.0</td>\n",
              "      <td>0.0</td>\n",
              "      <td>2.965517</td>\n",
              "      <td>15.969799</td>\n",
              "      <td>55206.416667</td>\n",
              "      <td>1.954783e+05</td>\n",
              "      <td>1566821.0</td>\n",
              "      <td>...</td>\n",
              "      <td>341775.688712</td>\n",
              "      <td>1805015.0</td>\n",
              "      <td>167.0</td>\n",
              "      <td>7.295851</td>\n",
              "      <td>1</td>\n",
              "      <td>0</td>\n",
              "      <td>0</td>\n",
              "      <td>0</td>\n",
              "      <td>0</td>\n",
              "      <td>0</td>\n",
              "    </tr>\n",
              "    <tr>\n",
              "      <th>1</th>\n",
              "      <td>4508</td>\n",
              "      <td>80</td>\n",
              "      <td>2</td>\n",
              "      <td>70.0</td>\n",
              "      <td>0.0</td>\n",
              "      <td>35.000000</td>\n",
              "      <td>49.497475</td>\n",
              "      <td>78104.833333</td>\n",
              "      <td>1.191181e+05</td>\n",
              "      <td>235236.0</td>\n",
              "      <td>...</td>\n",
              "      <td>0.000000</td>\n",
              "      <td>92.0</td>\n",
              "      <td>92.0</td>\n",
              "      <td>4.267768</td>\n",
              "      <td>1</td>\n",
              "      <td>0</td>\n",
              "      <td>0</td>\n",
              "      <td>0</td>\n",
              "      <td>0</td>\n",
              "      <td>0</td>\n",
              "    </tr>\n",
              "    <tr>\n",
              "      <th>2</th>\n",
              "      <td>1725</td>\n",
              "      <td>80</td>\n",
              "      <td>47</td>\n",
              "      <td>110.0</td>\n",
              "      <td>0.0</td>\n",
              "      <td>6.170213</td>\n",
              "      <td>24.136675</td>\n",
              "      <td>187266.919355</td>\n",
              "      <td>1.400895e+06</td>\n",
              "      <td>15094326.0</td>\n",
              "      <td>...</td>\n",
              "      <td>630711.570393</td>\n",
              "      <td>3787574.0</td>\n",
              "      <td>155.0</td>\n",
              "      <td>2.024021</td>\n",
              "      <td>1</td>\n",
              "      <td>0</td>\n",
              "      <td>0</td>\n",
              "      <td>0</td>\n",
              "      <td>0</td>\n",
              "      <td>0</td>\n",
              "    </tr>\n",
              "    <tr>\n",
              "      <th>3</th>\n",
              "      <td>4521</td>\n",
              "      <td>80</td>\n",
              "      <td>1</td>\n",
              "      <td>0.0</td>\n",
              "      <td>0.0</td>\n",
              "      <td>0.000000</td>\n",
              "      <td>0.000000</td>\n",
              "      <td>134.000000</td>\n",
              "      <td>0.000000e+00</td>\n",
              "      <td>134.0</td>\n",
              "      <td>...</td>\n",
              "      <td>0.000000</td>\n",
              "      <td>0.0</td>\n",
              "      <td>0.0</td>\n",
              "      <td>7462.686567</td>\n",
              "      <td>0</td>\n",
              "      <td>0</td>\n",
              "      <td>0</td>\n",
              "      <td>1</td>\n",
              "      <td>0</td>\n",
              "      <td>0</td>\n",
              "    </tr>\n",
              "    <tr>\n",
              "      <th>4</th>\n",
              "      <td>4522</td>\n",
              "      <td>80</td>\n",
              "      <td>1</td>\n",
              "      <td>0.0</td>\n",
              "      <td>0.0</td>\n",
              "      <td>0.000000</td>\n",
              "      <td>0.000000</td>\n",
              "      <td>83.000000</td>\n",
              "      <td>0.000000e+00</td>\n",
              "      <td>83.0</td>\n",
              "      <td>...</td>\n",
              "      <td>0.000000</td>\n",
              "      <td>0.0</td>\n",
              "      <td>0.0</td>\n",
              "      <td>12048.192771</td>\n",
              "      <td>0</td>\n",
              "      <td>0</td>\n",
              "      <td>0</td>\n",
              "      <td>1</td>\n",
              "      <td>0</td>\n",
              "      <td>0</td>\n",
              "    </tr>\n",
              "  </tbody>\n",
              "</table>\n",
              "<p>5 rows × 23 columns</p>\n",
              "</div>\n",
              "      <button class=\"colab-df-convert\" onclick=\"convertToInteractive('df-abe86097-1a3f-4c1a-abeb-6f646ba8f809')\"\n",
              "              title=\"Convert this dataframe to an interactive table.\"\n",
              "              style=\"display:none;\">\n",
              "        \n",
              "  <svg xmlns=\"http://www.w3.org/2000/svg\" height=\"24px\"viewBox=\"0 0 24 24\"\n",
              "       width=\"24px\">\n",
              "    <path d=\"M0 0h24v24H0V0z\" fill=\"none\"/>\n",
              "    <path d=\"M18.56 5.44l.94 2.06.94-2.06 2.06-.94-2.06-.94-.94-2.06-.94 2.06-2.06.94zm-11 1L8.5 8.5l.94-2.06 2.06-.94-2.06-.94L8.5 2.5l-.94 2.06-2.06.94zm10 10l.94 2.06.94-2.06 2.06-.94-2.06-.94-.94-2.06-.94 2.06-2.06.94z\"/><path d=\"M17.41 7.96l-1.37-1.37c-.4-.4-.92-.59-1.43-.59-.52 0-1.04.2-1.43.59L10.3 9.45l-7.72 7.72c-.78.78-.78 2.05 0 2.83L4 21.41c.39.39.9.59 1.41.59.51 0 1.02-.2 1.41-.59l7.78-7.78 2.81-2.81c.8-.78.8-2.07 0-2.86zM5.41 20L4 18.59l7.72-7.72 1.47 1.35L5.41 20z\"/>\n",
              "  </svg>\n",
              "      </button>\n",
              "      \n",
              "  <style>\n",
              "    .colab-df-container {\n",
              "      display:flex;\n",
              "      flex-wrap:wrap;\n",
              "      gap: 12px;\n",
              "    }\n",
              "\n",
              "    .colab-df-convert {\n",
              "      background-color: #E8F0FE;\n",
              "      border: none;\n",
              "      border-radius: 50%;\n",
              "      cursor: pointer;\n",
              "      display: none;\n",
              "      fill: #1967D2;\n",
              "      height: 32px;\n",
              "      padding: 0 0 0 0;\n",
              "      width: 32px;\n",
              "    }\n",
              "\n",
              "    .colab-df-convert:hover {\n",
              "      background-color: #E2EBFA;\n",
              "      box-shadow: 0px 1px 2px rgba(60, 64, 67, 0.3), 0px 1px 3px 1px rgba(60, 64, 67, 0.15);\n",
              "      fill: #174EA6;\n",
              "    }\n",
              "\n",
              "    [theme=dark] .colab-df-convert {\n",
              "      background-color: #3B4455;\n",
              "      fill: #D2E3FC;\n",
              "    }\n",
              "\n",
              "    [theme=dark] .colab-df-convert:hover {\n",
              "      background-color: #434B5C;\n",
              "      box-shadow: 0px 1px 3px 1px rgba(0, 0, 0, 0.15);\n",
              "      filter: drop-shadow(0px 1px 2px rgba(0, 0, 0, 0.3));\n",
              "      fill: #FFFFFF;\n",
              "    }\n",
              "  </style>\n",
              "\n",
              "      <script>\n",
              "        const buttonEl =\n",
              "          document.querySelector('#df-abe86097-1a3f-4c1a-abeb-6f646ba8f809 button.colab-df-convert');\n",
              "        buttonEl.style.display =\n",
              "          google.colab.kernel.accessAllowed ? 'block' : 'none';\n",
              "\n",
              "        async function convertToInteractive(key) {\n",
              "          const element = document.querySelector('#df-abe86097-1a3f-4c1a-abeb-6f646ba8f809');\n",
              "          const dataTable =\n",
              "            await google.colab.kernel.invokeFunction('convertToInteractive',\n",
              "                                                     [key], {});\n",
              "          if (!dataTable) return;\n",
              "\n",
              "          const docLinkHtml = 'Like what you see? Visit the ' +\n",
              "            '<a target=\"_blank\" href=https://colab.research.google.com/notebooks/data_table.ipynb>data table notebook</a>'\n",
              "            + ' to learn more about interactive tables.';\n",
              "          element.innerHTML = '';\n",
              "          dataTable['output_type'] = 'display_data';\n",
              "          await google.colab.output.renderOutput(dataTable, element);\n",
              "          const docLink = document.createElement('div');\n",
              "          docLink.innerHTML = docLinkHtml;\n",
              "          element.appendChild(docLink);\n",
              "        }\n",
              "      </script>\n",
              "    </div>\n",
              "  </div>\n",
              "  "
            ]
          },
          "metadata": {},
          "execution_count": 86
        }
      ]
    },
    {
      "cell_type": "code",
      "source": [
        "y.head(5)"
      ],
      "metadata": {
        "colab": {
          "base_uri": "https://localhost:8080/"
        },
        "id": "jFKgr-3MbSGc",
        "outputId": "f0e9283c-16d9-40a6-ea21-d3a2227d1b58"
      },
      "execution_count": 87,
      "outputs": [
        {
          "output_type": "execute_result",
          "data": {
            "text/plain": [
              "0    1\n",
              "1    1\n",
              "2    1\n",
              "3    1\n",
              "4    1\n",
              "Name: Label, dtype: int64"
            ]
          },
          "metadata": {},
          "execution_count": 87
        }
      ]
    },
    {
      "cell_type": "markdown",
      "source": [
        "Normalizing data to avoid large values"
      ],
      "metadata": {
        "id": "bFac7Xk63C-E"
      }
    },
    {
      "cell_type": "markdown",
      "source": [
        "Training"
      ],
      "metadata": {
        "id": "HM7-yQXK3JCU"
      }
    },
    {
      "cell_type": "code",
      "source": [
        "from sklearn.model_selection import train_test_split\n",
        "\n",
        "X_train, X_valid, y_train, y_valid = \\\n",
        "    train_test_split(X, y, stratify=y, train_size=0.9)"
      ],
      "metadata": {
        "id": "UbkTYUAw-Cks"
      },
      "execution_count": 88,
      "outputs": []
    },
    {
      "cell_type": "code",
      "source": [
        "input_shape = [X_train.shape[1]]"
      ],
      "metadata": {
        "id": "bGK2pL1bbmmk"
      },
      "execution_count": 89,
      "outputs": []
    },
    {
      "cell_type": "code",
      "source": [
        "input_shape"
      ],
      "metadata": {
        "colab": {
          "base_uri": "https://localhost:8080/"
        },
        "id": "GW9g6IpCbnil",
        "outputId": "902a15ff-c89b-4348-e229-9653a5326856"
      },
      "execution_count": 90,
      "outputs": [
        {
          "output_type": "execute_result",
          "data": {
            "text/plain": [
              "[23]"
            ]
          },
          "metadata": {},
          "execution_count": 90
        }
      ]
    },
    {
      "cell_type": "markdown",
      "source": [
        "## Modelling ML"
      ],
      "metadata": {
        "id": "8bu25_dzo_fR"
      }
    },
    {
      "cell_type": "code",
      "source": [
        "from tensorflow import keras\n",
        "from tensorflow.keras import models\n",
        "from tensorflow.keras import layers"
      ],
      "metadata": {
        "id": "N0DIdgkW4mE2"
      },
      "execution_count": 91,
      "outputs": []
    },
    {
      "cell_type": "markdown",
      "source": [
        "The target is Label (ddos or not). Therefore, we should count the available input features and exclude the output from the list."
      ],
      "metadata": {
        "id": "V-B7yqeXtQjR"
      }
    },
    {
      "cell_type": "code",
      "source": [
        "#model = keras.Sequential([\n",
        "#    layers.BatchNormalization(input_shape=input_shape),\n",
        "#    layers.Dense(256, activation='relu'),\n",
        "#    layers.BatchNormalization(),\n",
        "#    layers.Dropout(0.3),\n",
        "#    layers.Dense(256, activation='relu'),\n",
        "#    layers.BatchNormalization(),\n",
        "#    layers.Dropout(0.3),\n",
        "#    layers.Dense(1, activation='sigmoid'),\n",
        "#])"
      ],
      "metadata": {
        "id": "s4ptuaBC48Qj"
      },
      "execution_count": 92,
      "outputs": []
    },
    {
      "cell_type": "code",
      "source": [
        "#model.compile(\n",
        "#    optimizer='adam',\n",
        "#    loss='binary_crossentropy',\n",
        "#    metrics=['binary_accuracy'],\n",
        "#)"
      ],
      "metadata": {
        "id": "FnPblRX458d7"
      },
      "execution_count": 93,
      "outputs": []
    },
    {
      "cell_type": "code",
      "source": [
        "#rna = models.Sequential([Dense(64, activation=\"sigmoid\", input_shape=input_shape),\n",
        "#                         Dense(32, activation=\"relu\"),\n",
        "#                         Dense(16, activation=\"relu\"),\n",
        "#                         Dense(1, activation='sigmoid'),\n",
        "#])\n",
        "#rna.summary()"
      ],
      "metadata": {
        "id": "exm2eHIBd25F"
      },
      "execution_count": 94,
      "outputs": []
    },
    {
      "cell_type": "code",
      "source": [
        "rna = models.Sequential([Dense(256, activation=\"sigmoid\", input_shape=input_shape),\n",
        "                         Dense(128, activation=\"relu\"),\n",
        "                         Dense(64, activation=\"relu\"),\n",
        "                         Dense(32, activation=\"relu\"),\n",
        "                         Dense(16, activation=\"relu\"),\n",
        "                         Dense(1, activation='sigmoid'),\n",
        "])\n",
        "rna.summary()"
      ],
      "metadata": {
        "colab": {
          "base_uri": "https://localhost:8080/"
        },
        "id": "zud0kfUfydf2",
        "outputId": "4b6ac7c4-bd62-49ae-c7d9-b8757c6de16d"
      },
      "execution_count": 95,
      "outputs": [
        {
          "output_type": "stream",
          "name": "stdout",
          "text": [
            "Model: \"sequential\"\n",
            "_________________________________________________________________\n",
            " Layer (type)                Output Shape              Param #   \n",
            "=================================================================\n",
            " dense (Dense)               (None, 256)               6144      \n",
            "                                                                 \n",
            " dense_1 (Dense)             (None, 128)               32896     \n",
            "                                                                 \n",
            " dense_2 (Dense)             (None, 64)                8256      \n",
            "                                                                 \n",
            " dense_3 (Dense)             (None, 32)                2080      \n",
            "                                                                 \n",
            " dense_4 (Dense)             (None, 16)                528       \n",
            "                                                                 \n",
            " dense_5 (Dense)             (None, 1)                 17        \n",
            "                                                                 \n",
            "=================================================================\n",
            "Total params: 49,921\n",
            "Trainable params: 49,921\n",
            "Non-trainable params: 0\n",
            "_________________________________________________________________\n"
          ]
        }
      ]
    },
    {
      "cell_type": "code",
      "source": [
        "from tensorflow.keras import optimizers\n",
        "\n",
        "sgd = optimizers.SGD(learning_rate=0.01)\n",
        "rna.compile(loss='binary_crossentropy', metrics=['accuracy'], optimizer=sgd)\n",
        "\n",
        "# 2022-08-23 ~ 3 h 40 mins - 1000\n",
        "# 2022-09-13 ~ 4 h 38 mins 15 s - 1000\n",
        "# 2022-09-26 ~ 52 mins - 200 - 67%\n",
        "# 2022-09-26 ~ 51 mins - 200 - 50%\n",
        "# 2022-09-26 ~ x mins - 100 - 60%\n",
        "# 2022-10-10 ~ 25 mins - 100 - 100 epochs, 209 batch, (sigmoid 64, relu 32, relu 16, sigmoid 1) - 81%\n",
        "#rna.fit(X_train, y_train, epochs=10, batch_size=209) \n",
        "#history = rna.fit(X_train, y_train, epochs=1000, batch_size=209) \n",
        "history = rna.fit(X_train, y_train, epochs=100, batch_size=209)\n",
        "\n",
        "history_df = pd.DataFrame(history.history)\n"
      ],
      "metadata": {
        "id": "h4vA3QHz6cwP",
        "colab": {
          "base_uri": "https://localhost:8080/"
        },
        "outputId": "b2fa5aa5-bf90-48a1-8344-542826e1e5a7"
      },
      "execution_count": null,
      "outputs": [
        {
          "output_type": "stream",
          "name": "stdout",
          "text": [
            "Epoch 1/100\n",
            "5510/5510 [==============================] - 20s 3ms/step - loss: 0.4123 - accuracy: 0.7973\n",
            "Epoch 2/100\n",
            "5510/5510 [==============================] - 18s 3ms/step - loss: 0.4139 - accuracy: 0.7914\n",
            "Epoch 3/100\n",
            "5510/5510 [==============================] - 18s 3ms/step - loss: 0.4208 - accuracy: 0.7776\n",
            "Epoch 4/100\n",
            "5510/5510 [==============================] - 17s 3ms/step - loss: 0.4187 - accuracy: 0.7789\n",
            "Epoch 5/100\n",
            "5510/5510 [==============================] - 19s 3ms/step - loss: 0.4166 - accuracy: 0.7829\n",
            "Epoch 6/100\n",
            "5510/5510 [==============================] - 17s 3ms/step - loss: 0.4271 - accuracy: 0.7863\n",
            "Epoch 7/100\n",
            "5510/5510 [==============================] - 17s 3ms/step - loss: 0.4249 - accuracy: 0.7768\n",
            "Epoch 8/100\n",
            "5510/5510 [==============================] - 17s 3ms/step - loss: 0.4285 - accuracy: 0.7843\n",
            "Epoch 9/100\n",
            "5510/5510 [==============================] - 17s 3ms/step - loss: 0.4280 - accuracy: 0.7813\n",
            "Epoch 10/100\n",
            "5510/5510 [==============================] - 17s 3ms/step - loss: 0.4321 - accuracy: 0.7764\n",
            "Epoch 11/100\n",
            "5510/5510 [==============================] - 17s 3ms/step - loss: 0.4149 - accuracy: 0.7964\n",
            "Epoch 12/100\n",
            "5510/5510 [==============================] - 17s 3ms/step - loss: 0.4235 - accuracy: 0.7868\n",
            "Epoch 13/100\n",
            "5510/5510 [==============================] - 17s 3ms/step - loss: 0.4155 - accuracy: 0.7935\n",
            "Epoch 14/100\n",
            "5510/5510 [==============================] - 17s 3ms/step - loss: 0.4315 - accuracy: 0.7772\n",
            "Epoch 15/100\n",
            "5510/5510 [==============================] - 17s 3ms/step - loss: 0.4292 - accuracy: 0.7730\n",
            "Epoch 16/100\n",
            "5510/5510 [==============================] - 18s 3ms/step - loss: 0.4023 - accuracy: 0.7908\n",
            "Epoch 17/100\n",
            "5510/5510 [==============================] - 17s 3ms/step - loss: 0.4075 - accuracy: 0.7839\n",
            "Epoch 18/100\n",
            "5510/5510 [==============================] - 17s 3ms/step - loss: 0.4131 - accuracy: 0.7778\n",
            "Epoch 19/100\n",
            "5510/5510 [==============================] - 17s 3ms/step - loss: 0.4242 - accuracy: 0.7724\n",
            "Epoch 20/100\n",
            "5510/5510 [==============================] - 17s 3ms/step - loss: 0.4503 - accuracy: 0.7532\n",
            "Epoch 21/100\n",
            "5510/5510 [==============================] - 17s 3ms/step - loss: 0.4450 - accuracy: 0.7694\n",
            "Epoch 22/100\n",
            "5510/5510 [==============================] - 17s 3ms/step - loss: 0.4217 - accuracy: 0.7796\n",
            "Epoch 23/100\n",
            "5510/5510 [==============================] - 17s 3ms/step - loss: 0.4169 - accuracy: 0.7757\n",
            "Epoch 24/100\n",
            "5510/5510 [==============================] - 17s 3ms/step - loss: 0.4029 - accuracy: 0.7931\n",
            "Epoch 25/100\n",
            "5510/5510 [==============================] - 17s 3ms/step - loss: 0.4180 - accuracy: 0.7807\n",
            "Epoch 26/100\n",
            "5510/5510 [==============================] - 17s 3ms/step - loss: 0.4166 - accuracy: 0.7899\n",
            "Epoch 27/100\n",
            "5510/5510 [==============================] - 18s 3ms/step - loss: 0.4134 - accuracy: 0.7833\n",
            "Epoch 28/100\n",
            "5510/5510 [==============================] - 17s 3ms/step - loss: 0.4321 - accuracy: 0.7901\n",
            "Epoch 29/100\n",
            "5510/5510 [==============================] - 17s 3ms/step - loss: 0.4299 - accuracy: 0.8060\n",
            "Epoch 30/100\n",
            "5510/5510 [==============================] - 17s 3ms/step - loss: 0.4211 - accuracy: 0.8103\n",
            "Epoch 31/100\n",
            "5510/5510 [==============================] - 17s 3ms/step - loss: 0.4462 - accuracy: 0.7703\n",
            "Epoch 32/100\n",
            "5510/5510 [==============================] - 17s 3ms/step - loss: 0.4410 - accuracy: 0.7761\n",
            "Epoch 33/100\n",
            "5510/5510 [==============================] - 17s 3ms/step - loss: 0.4397 - accuracy: 0.7801\n",
            "Epoch 34/100\n",
            "5510/5510 [==============================] - 17s 3ms/step - loss: 0.4486 - accuracy: 0.7656\n",
            "Epoch 35/100\n",
            "5510/5510 [==============================] - 17s 3ms/step - loss: 0.4248 - accuracy: 0.7809\n",
            "Epoch 36/100\n",
            "5510/5510 [==============================] - 17s 3ms/step - loss: 0.4134 - accuracy: 0.7896\n",
            "Epoch 37/100\n",
            "5510/5510 [==============================] - 17s 3ms/step - loss: 0.4236 - accuracy: 0.7886\n",
            "Epoch 38/100\n",
            "5510/5510 [==============================] - 18s 3ms/step - loss: 0.4136 - accuracy: 0.8121\n",
            "Epoch 39/100\n",
            "5510/5510 [==============================] - 17s 3ms/step - loss: 0.4089 - accuracy: 0.8081\n",
            "Epoch 40/100\n",
            "5510/5510 [==============================] - 17s 3ms/step - loss: 0.4133 - accuracy: 0.7936\n",
            "Epoch 41/100\n",
            "5510/5510 [==============================] - 17s 3ms/step - loss: 0.4073 - accuracy: 0.7976\n",
            "Epoch 42/100\n",
            "5510/5510 [==============================] - 17s 3ms/step - loss: 0.4105 - accuracy: 0.7888\n",
            "Epoch 43/100\n",
            "5510/5510 [==============================] - 17s 3ms/step - loss: 0.4063 - accuracy: 0.8000\n",
            "Epoch 44/100\n",
            "5510/5510 [==============================] - 17s 3ms/step - loss: 0.4007 - accuracy: 0.8029\n",
            "Epoch 45/100\n",
            "5510/5510 [==============================] - 17s 3ms/step - loss: 0.4191 - accuracy: 0.7972\n",
            "Epoch 46/100\n",
            "5510/5510 [==============================] - 17s 3ms/step - loss: 0.4354 - accuracy: 0.7786\n",
            "Epoch 47/100\n",
            "5510/5510 [==============================] - 17s 3ms/step - loss: 0.4192 - accuracy: 0.7857\n",
            "Epoch 48/100\n",
            "5510/5510 [==============================] - 17s 3ms/step - loss: 0.4289 - accuracy: 0.7796\n",
            "Epoch 49/100\n",
            "5510/5510 [==============================] - 18s 3ms/step - loss: 0.4269 - accuracy: 0.7826\n",
            "Epoch 50/100\n",
            "5510/5510 [==============================] - 17s 3ms/step - loss: 0.4103 - accuracy: 0.7981\n",
            "Epoch 51/100\n",
            "5510/5510 [==============================] - 17s 3ms/step - loss: 0.4091 - accuracy: 0.7987\n",
            "Epoch 52/100\n",
            "5510/5510 [==============================] - 17s 3ms/step - loss: 0.4071 - accuracy: 0.7955\n",
            "Epoch 53/100\n",
            "5510/5510 [==============================] - 17s 3ms/step - loss: 0.4048 - accuracy: 0.7949\n",
            "Epoch 54/100\n",
            "5510/5510 [==============================] - 17s 3ms/step - loss: 0.4037 - accuracy: 0.7996\n",
            "Epoch 55/100\n",
            "5510/5510 [==============================] - 17s 3ms/step - loss: 0.4051 - accuracy: 0.7967\n",
            "Epoch 56/100\n",
            "5510/5510 [==============================] - 17s 3ms/step - loss: 0.4064 - accuracy: 0.7990\n",
            "Epoch 57/100\n",
            "5510/5510 [==============================] - 17s 3ms/step - loss: 0.4078 - accuracy: 0.8013\n",
            "Epoch 58/100\n",
            "5510/5510 [==============================] - 17s 3ms/step - loss: 0.4058 - accuracy: 0.8053\n",
            "Epoch 59/100\n",
            "5510/5510 [==============================] - 17s 3ms/step - loss: 0.3990 - accuracy: 0.8131\n",
            "Epoch 60/100\n",
            "5510/5510 [==============================] - 18s 3ms/step - loss: 0.4045 - accuracy: 0.8056\n",
            "Epoch 61/100\n",
            "5510/5510 [==============================] - 17s 3ms/step - loss: 0.4119 - accuracy: 0.8008\n",
            "Epoch 62/100\n",
            "5510/5510 [==============================] - 17s 3ms/step - loss: 0.3955 - accuracy: 0.8171\n",
            "Epoch 63/100\n",
            "5510/5510 [==============================] - 17s 3ms/step - loss: 0.3912 - accuracy: 0.8202\n",
            "Epoch 64/100\n",
            "5510/5510 [==============================] - 17s 3ms/step - loss: 0.3981 - accuracy: 0.8031\n",
            "Epoch 65/100\n",
            "5510/5510 [==============================] - 17s 3ms/step - loss: 0.4014 - accuracy: 0.8026\n",
            "Epoch 66/100\n",
            "5510/5510 [==============================] - 17s 3ms/step - loss: 0.4071 - accuracy: 0.7906\n",
            "Epoch 67/100\n",
            "5510/5510 [==============================] - 17s 3ms/step - loss: 0.4074 - accuracy: 0.7898\n",
            "Epoch 68/100\n",
            "5510/5510 [==============================] - 17s 3ms/step - loss: 0.4081 - accuracy: 0.7930\n",
            "Epoch 69/100\n",
            "5510/5510 [==============================] - 17s 3ms/step - loss: 0.4318 - accuracy: 0.7746\n",
            "Epoch 70/100\n",
            "5510/5510 [==============================] - 17s 3ms/step - loss: 0.4415 - accuracy: 0.7655\n",
            "Epoch 71/100\n",
            "5510/5510 [==============================] - 18s 3ms/step - loss: 0.4193 - accuracy: 0.7849\n",
            "Epoch 72/100\n",
            "5510/5510 [==============================] - 17s 3ms/step - loss: 0.4210 - accuracy: 0.7791\n",
            "Epoch 73/100\n",
            "1482/5510 [=======>......................] - ETA: 12s - loss: 0.4179 - accuracy: 0.7798"
          ]
        }
      ]
    },
    {
      "cell_type": "code",
      "source": [
        "history_df.keys()"
      ],
      "metadata": {
        "id": "hAAFKbp0Q28B"
      },
      "execution_count": null,
      "outputs": []
    },
    {
      "cell_type": "code",
      "source": [
        "#history_df.loc[:, ['loss', 'val_loss']].plot(title=\"Cross-entropy\")\n",
        "#history_df.loc[:, ['binary_accuracy', 'val_binary_accuracy']].plot(title=\"Accuracy\")"
      ],
      "metadata": {
        "id": "izt1EmhJQ1c9"
      },
      "execution_count": null,
      "outputs": []
    },
    {
      "cell_type": "code",
      "source": [
        "rna.predict(X_train[:10])"
      ],
      "metadata": {
        "id": "PuZYQPrBcfF_"
      },
      "execution_count": null,
      "outputs": []
    },
    {
      "cell_type": "code",
      "source": [
        "import matplotlib.pyplot as plt\n",
        "import seaborn as sns\n",
        "\n",
        "custodl = history_df[\"loss\"]\n",
        "exatidaodl = history_df[\"accuracy\"]\n",
        "\n",
        "epocasdl = range(1, len(custodl) + 1)\n",
        "\n",
        "plt.plot(epocasdl, custodl, 'b')\n",
        "plt.title('Valor da função de custo')\n",
        "plt.xlabel('Épocas')\n",
        "plt.ylabel('Custo')\n",
        "plt.show()\n",
        "\n",
        "plt.plot(epocasdl, exatidaodl, 'r')\n",
        "plt.title('Valor da exatidão')\n",
        "plt.xlabel('Épocas')\n",
        "plt.ylabel('Exatidão')\n",
        "plt.show()"
      ],
      "metadata": {
        "id": "J6uLMFTGThrl"
      },
      "execution_count": null,
      "outputs": []
    },
    {
      "cell_type": "markdown",
      "source": [
        "## Result analysis"
      ],
      "metadata": {
        "id": "jMahg-yOcuH9"
      }
    },
    {
      "cell_type": "code",
      "source": [
        "import plotly.graph_objects as go\n",
        "import plotly.express as px\n",
        "fig = go.Figure()\n",
        "\n",
        "fig.add_trace(go.Scatter(mode=\"markers\", x=epocasdl, y=custodl))\n",
        "\n",
        "fig.update_xaxes(type=\"log\")"
      ],
      "metadata": {
        "id": "pEcIFiY8ThVV"
      },
      "execution_count": null,
      "outputs": []
    },
    {
      "cell_type": "code",
      "source": [
        "import matplotlib.pyplot as plt\n",
        "import seaborn as sns\n",
        "import numpy as np"
      ],
      "metadata": {
        "id": "mks9mSvsc7mE"
      },
      "execution_count": null,
      "outputs": []
    },
    {
      "cell_type": "code",
      "source": [
        "colors = plt.rcParams['axes.prop_cycle'].by_key()['color']"
      ],
      "metadata": {
        "id": "JCVvhGvzdACl"
      },
      "execution_count": null,
      "outputs": []
    },
    {
      "cell_type": "code",
      "source": [
        "def plot_metrics(history):\n",
        "  metrics = ['loss', 'accuracy',]# 'precision', 'recall']\n",
        "  plt.figure(figsize=(16,12))\n",
        "  for n, metric in enumerate(metrics):\n",
        "    name = metric.replace(\"_\",\" \").capitalize()\n",
        "    plt.subplot(2,2,n+1)\n",
        "    plt.plot(history.epoch, history.history[metric], color=colors[0], label='Train')\n",
        "    #plt.plot(history.epoch, history.history['val_'+metric],\n",
        "    plt.plot(history.epoch, history.history[metric],\n",
        "    color=colors[0], linestyle=\"--\", label='Val')\n",
        "    plt.xlabel('Epoch')\n",
        "    plt.ylabel(name)\n",
        "    if metric == 'loss':\n",
        "      plt.ylim([0, plt.ylim()[1]])\n",
        "    elif metric == 'auc':\n",
        "      plt.ylim([0.8,1])\n",
        "    else:\n",
        "      plt.ylim([0,1])\n",
        "    plt.legend()"
      ],
      "metadata": {
        "id": "BEH7jDUVcx8h"
      },
      "execution_count": null,
      "outputs": []
    },
    {
      "cell_type": "code",
      "source": [
        "plot_metrics(history)"
      ],
      "metadata": {
        "colab": {
          "base_uri": "https://localhost:8080/",
          "height": 362
        },
        "id": "2FQY3GBTdNG1",
        "outputId": "07bdfc15-8b16-4bcc-c006-598eb0efd721"
      },
      "execution_count": null,
      "outputs": [
        {
          "output_type": "display_data",
          "data": {
            "text/plain": [
              "<Figure size 1152x864 with 2 Axes>"
            ],
            "image/png": "[encoded data removed]"
          },
          "metadata": {
            "needs_background": "light"
          }
        }
      ]
    },
    {
      "cell_type": "code",
      "source": [
        "y_test_prev = rna.predict(X_train)\n",
        "# Cálculo das classes previstas\n",
        "classe = np.argmax(y_test_prev, axis=1)\n",
        "# Gráfico das classes reais e previstas (100 primeiros exemplos)\n",
        "plt.figure(figsize=(16, 6))\n",
        "plt.plot(y_train[:150], 'ro', label='Classes reais')\n",
        "plt.plot(classe[:150], 'bo', label='Classes previstas')\n",
        "plt.title('Classes reais e previstas')\n",
        "plt.xlabel('Exemplos')\n",
        "plt.ylabel('Classes')\n",
        "plt.legend()\n",
        "plt.show()"
      ],
      "metadata": {
        "colab": {
          "base_uri": "https://localhost:8080/",
          "height": 422
        },
        "id": "iBbkTZ-O7UZY",
        "outputId": "36da8b48-513d-4dbf-aa33-087ba2504aaa"
      },
      "execution_count": null,
      "outputs": [
        {
          "output_type": "stream",
          "name": "stdout",
          "text": [
            "35985/35985 [==============================] - 52s 1ms/step\n"
          ]
        },
        {
          "output_type": "display_data",
          "data": {
            "text/plain": [
              "<Figure size 1152x432 with 1 Axes>"
            ],
            "image/png": "[encoded data removed]"
          },
          "metadata": {
            "needs_background": "light"
          }
        }
      ]
    },
    {
      "cell_type": "code",
      "source": [],
      "metadata": {
        "id": "5q0elOot7USI"
      },
      "execution_count": null,
      "outputs": []
    },
    {
      "cell_type": "markdown",
      "source": [
        "## Export"
      ],
      "metadata": {
        "id": "u5e4YEoOU4Ae"
      }
    },
    {
      "cell_type": "code",
      "source": [
        "rna.save(\"/content/Export/AIV5\")\n",
        "rna.save(\"/content/Export/AIV5.h5\")"
      ],
      "metadata": {
        "id": "1eKj6WpGUDcd"
      },
      "execution_count": null,
      "outputs": []
    },
    {
      "cell_type": "code",
      "source": [
        "import joblib\n",
        "joblib.dump(rna, \"/content/Export/AIV5.joblib\")"
      ],
      "metadata": {
        "id": "8Ktb6yXdhcSU",
        "colab": {
          "base_uri": "https://localhost:8080/"
        },
        "outputId": "8a1bd046-5d57-410d-cec6-9a4c77cee1c4"
      },
      "execution_count": null,
      "outputs": [
        {
          "output_type": "execute_result",
          "data": {
            "text/plain": [
              "['/content/Export/AIV5.joblib']"
            ]
          },
          "metadata": {},
          "execution_count": 114
        }
      ]
    },
    {
      "cell_type": "markdown",
      "source": [
        "# Recursos"
      ],
      "metadata": {
        "id": "_4pEsZhINzb5"
      }
    },
    {
      "cell_type": "markdown",
      "source": [
        "[Big Data: Como instalar o PySpark no Google Colab](https://colab.research.google.com/github/carlosfab/sigmoidal_ai/blob/master/Big_Data_Como_instalar_o_PySpark_no_Google_Colab.ipynb#scrollTo=gpJqWggpPKXO) - 2022-06-17\n",
        "\n",
        "[Pandas vs PySpark DataFrame With Examples](https://sparkbyexamples.com/pyspark/pandas-vs-pyspark-dataframe-with-examples/) - 2022-06-17\n",
        "\n",
        "[Spark with Python (PySpark) Tutorial For Beginner](https://sparkbyexamples.com/pyspark-tutorial/) - 2022-06-17\n",
        "\n",
        "[4 strategies how to deal with large datasets in Pandas](https://www.vantage-ai.com/en/blog/4-strategies-how-to-deal-with-large-datasets-in-pandas) - 2022-08-18\n",
        "\n",
        "[Dask Docs - Dataframe](https://docs.dask.org/en/stable/dataframe.html) - 2022-08-19\n",
        "\n",
        "[Dask Docs - Dataframe best practices](https://docs.dask.org/en/stable/dataframe-best-practices.html) - 2022-08-19\n",
        "\n",
        "[Modern Pandas (Part 1)](https://tomaugspurger.github.io/modern-1-intro) - 2022-08-19\n",
        "\n",
        "[DDoS sources & var types](https://www.unb.ca/cic/datasets/ids-2018.html) - 2022-08-22\n",
        "\n",
        "[Kaggle - Binary Classification class](https://www.kaggle.com/code/ryanholbrook/binary-classification) - 2022-08-23\n",
        "\n",
        "[Tensorflow - Export and import](https://www.tensorflow.org/guide/keras/save_and_serialize) - 2022-08-23\n",
        "\n",
        "[PDF - Convolutional Neural Network: Text Classification Model for Open Domain Question Answering System](https://arxiv.org/ftp/arxiv/papers/1809/1809.02479.pdf) - 2022-10-10\n",
        "\n",
        "[Text classification using CNN](https://medium.com/voice-tech-podcast/text-classification-using-cnn-9ade8155dfb9) - 2022-10-10\n",
        "\n",
        "[Video - Convolutional neural networks for well log analysis tutorial](https://www.youtube.com/watch?v=zOv3TnjKYmg) - 2022-10-10\n",
        "\n",
        "[Deep Convolutional Neural Networks for Log Event Classification on Distributed Cluster Systems](https://www.researchgate.net/publication/330625658_Deep_Convolutional_Neural_Networks_for_Log_Event_Classification_on_Distributed_Cluster_Systems) - 2022-10-10\n",
        "\n",
        "[StackOverFlow - Remove space](https://stackoverflow.com/questions/41476150/remove-or-replace-spaces-in-column-names) - 2022-10-11\n",
        "\n",
        "[Google cloud - Exporting model as joblib](https://cloud.google.com/vertex-ai/docs/training/exporting-model-artifacts#joblib) - 2022-10-11"
      ],
      "metadata": {
        "id": "DKmLlKVpN4iH"
      }
    }
  ]
}